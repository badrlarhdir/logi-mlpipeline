{
 "cells": [
  {
   "cell_type": "code",
   "execution_count": 1,
   "id": "5667f5f2",
   "metadata": {
    "execution": {
     "iopub.execute_input": "2023-04-24T11:53:26.618553Z",
     "iopub.status.busy": "2023-04-24T11:53:26.618181Z",
     "iopub.status.idle": "2023-04-24T11:53:27.502741Z",
     "shell.execute_reply": "2023-04-24T11:53:27.502425Z"
    },
    "papermill": {
     "duration": 0.898974,
     "end_time": "2023-04-24T11:53:27.503961",
     "exception": false,
     "start_time": "2023-04-24T11:53:26.604987",
     "status": "completed"
    },
    "tags": []
   },
   "outputs": [],
   "source": [
    "import sys\n",
    "import pickle\n",
    "import string\n",
    "import numpy as np\n",
    "import pandas as pd\n",
    "import seaborn as sns\n",
    "import matplotlib.pyplot as plt\n",
    "\n",
    "from sklearn.model_selection import train_test_split\n",
    "from sklearn.feature_extraction.text import CountVectorizer"
   ]
  },
  {
   "cell_type": "code",
   "execution_count": 2,
   "id": "55747b9d-c4e4-4cee-a952-783edfb547b6",
   "metadata": {
    "execution": {
     "iopub.execute_input": "2023-04-24T11:53:27.512426Z",
     "iopub.status.busy": "2023-04-24T11:53:27.512164Z",
     "iopub.status.idle": "2023-04-24T11:53:27.737719Z",
     "shell.execute_reply": "2023-04-24T11:53:27.737383Z"
    },
    "papermill": {
     "duration": 0.231566,
     "end_time": "2023-04-24T11:53:27.738916",
     "exception": false,
     "start_time": "2023-04-24T11:53:27.507350",
     "status": "completed"
    },
    "tags": []
   },
   "outputs": [],
   "source": [
    "from dvclive import Live\n",
    "\n",
    "live = Live(save_dvc_exp=True)"
   ]
  },
  {
   "cell_type": "code",
   "execution_count": 3,
   "id": "10b331e7-97c7-4aab-acb9-3ad44ee11a8a",
   "metadata": {
    "execution": {
     "iopub.execute_input": "2023-04-24T11:53:27.746278Z",
     "iopub.status.busy": "2023-04-24T11:53:27.746110Z",
     "iopub.status.idle": "2023-04-24T11:53:27.748857Z",
     "shell.execute_reply": "2023-04-24T11:53:27.748595Z"
    },
    "papermill": {
     "duration": 0.007762,
     "end_time": "2023-04-24T11:53:27.749999",
     "exception": false,
     "start_time": "2023-04-24T11:53:27.742237",
     "status": "completed"
    },
    "tags": []
   },
   "outputs": [
    {
     "name": "stdout",
     "output_type": "stream",
     "text": [
      "/Users/blarhdir/Documents/sw-data-mlops-internship/mlpipeline/notebooks"
     ]
    },
    {
     "name": "stdout",
     "output_type": "stream",
     "text": [
      "\n"
     ]
    }
   ],
   "source": [
    "import pathlib\n",
    " \n",
    "# current working directory\n",
    "print(pathlib.Path().absolute())"
   ]
  },
  {
   "cell_type": "raw",
   "id": "845de265-731d-45f0-90e0-54fab9de519a",
   "metadata": {
    "papermill": {
     "duration": 0.00295,
     "end_time": "2023-04-24T11:53:27.756131",
     "exception": false,
     "start_time": "2023-04-24T11:53:27.753181",
     "status": "completed"
    },
    "tags": []
   },
   "source": [
    "# Added by DataScientists\n",
    "from mlpipeline import PipelineBuilder\n",
    "pipeline = PipelineBuilder()"
   ]
  },
  {
   "cell_type": "markdown",
   "id": "652b2c2c-6e86-4195-b932-f5c216972e1a",
   "metadata": {
    "papermill": {
     "duration": 0.003577,
     "end_time": "2023-04-24T11:53:27.762649",
     "exception": false,
     "start_time": "2023-04-24T11:53:27.759072",
     "status": "completed"
    },
    "tags": []
   },
   "source": [
    "### PARAMS"
   ]
  },
  {
   "cell_type": "code",
   "execution_count": 4,
   "id": "23492dab-2346-4ffc-b229-8d5d19cd0d73",
   "metadata": {
    "execution": {
     "iopub.execute_input": "2023-04-24T11:53:27.769561Z",
     "iopub.status.busy": "2023-04-24T11:53:27.769286Z",
     "iopub.status.idle": "2023-04-24T11:53:27.771309Z",
     "shell.execute_reply": "2023-04-24T11:53:27.771014Z"
    },
    "papermill": {
     "duration": 0.006533,
     "end_time": "2023-04-24T11:53:27.772240",
     "exception": false,
     "start_time": "2023-04-24T11:53:27.765707",
     "status": "completed"
    },
    "tags": [
     "parameters"
    ]
   },
   "outputs": [],
   "source": [
    "UTILS_DIR = \"./\"\n",
    "DATA_DIR = '../data/'\n",
    "DATA_NAME =  'train_data_cleaning.csv'"
   ]
  },
  {
   "cell_type": "code",
   "execution_count": 5,
   "id": "f8b48627",
   "metadata": {
    "execution": {
     "iopub.execute_input": "2023-04-24T11:53:27.778757Z",
     "iopub.status.busy": "2023-04-24T11:53:27.778548Z",
     "iopub.status.idle": "2023-04-24T11:53:27.780291Z",
     "shell.execute_reply": "2023-04-24T11:53:27.780007Z"
    },
    "papermill": {
     "duration": 0.005859,
     "end_time": "2023-04-24T11:53:27.781129",
     "exception": false,
     "start_time": "2023-04-24T11:53:27.775270",
     "status": "completed"
    },
    "tags": [
     "injected-parameters"
    ]
   },
   "outputs": [],
   "source": [
    "# Parameters\n",
    "UTILS_DIR = \"./\"\n",
    "DATA_DIR = \"../data/\"\n",
    "DATA_NAME = \"train_data_cleaning.csv\"\n"
   ]
  },
  {
   "cell_type": "markdown",
   "id": "85da6383-53b4-45f8-9915-112175e17f90",
   "metadata": {
    "papermill": {
     "duration": 0.002919,
     "end_time": "2023-04-24T11:53:27.787157",
     "exception": false,
     "start_time": "2023-04-24T11:53:27.784238",
     "status": "completed"
    },
    "tags": []
   },
   "source": [
    "### Added by DataScientists"
   ]
  },
  {
   "cell_type": "raw",
   "id": "6e8ec2ad-9708-4683-8eb3-648a1f4e670d",
   "metadata": {
    "papermill": {
     "duration": 0.002808,
     "end_time": "2023-04-24T11:53:27.792853",
     "exception": false,
     "start_time": "2023-04-24T11:53:27.790045",
     "status": "completed"
    },
    "tags": []
   },
   "source": [
    "pipeline.add_params_to_stage(\"base\", {\n",
    "    \"UTILS_DIR\": \"./\",\n",
    "    \"DATA_DIR\": '../data/',\n",
    "    \"KERNEL_NAME\": \"venv\"\n",
    "  })"
   ]
  },
  {
   "cell_type": "markdown",
   "id": "85ff1e07-7f99-4c2e-85ed-10078af8b386",
   "metadata": {
    "papermill": {
     "duration": 0.002881,
     "end_time": "2023-04-24T11:53:27.798606",
     "exception": false,
     "start_time": "2023-04-24T11:53:27.795725",
     "status": "completed"
    },
    "tags": []
   },
   "source": [
    "### Added by DataScientists"
   ]
  },
  {
   "cell_type": "raw",
   "id": "0f70f0a0-7f68-488c-b49d-e161420f9eb3",
   "metadata": {
    "papermill": {
     "duration": 0.002964,
     "end_time": "2023-04-24T11:53:27.819156",
     "exception": false,
     "start_time": "2023-04-24T11:53:27.816192",
     "status": "completed"
    },
    "tags": []
   },
   "source": [
    "pipeline.add_params_to_stage(\"data_preprocess\", {\n",
    "    \"DATA_NAME\": \"train_data_cleaning.csv\"\n",
    "  })"
   ]
  },
  {
   "cell_type": "markdown",
   "id": "3ca9ed9b-0163-42b8-b883-2576a61bb91c",
   "metadata": {
    "papermill": {
     "duration": 0.002838,
     "end_time": "2023-04-24T11:53:27.824891",
     "exception": false,
     "start_time": "2023-04-24T11:53:27.822053",
     "status": "completed"
    },
    "tags": []
   },
   "source": [
    "### Added by DataScientists"
   ]
  },
  {
   "cell_type": "raw",
   "id": "cacc5299-a401-46b5-9b15-3a3c4e55945d",
   "metadata": {
    "papermill": {
     "duration": 0.002898,
     "end_time": "2023-04-24T11:53:27.830631",
     "exception": false,
     "start_time": "2023-04-24T11:53:27.827733",
     "status": "completed"
    },
    "tags": []
   },
   "source": [
    "pipeline.set_pipeline_stage(\"data_preprocess\", \"data_preprocess.ipynb\", \"data_preprocess_out.ipynb\", {\"UTILS_DIR\": \"base.UTILS_DIR\", \n",
    "                                                                                                     \"DATA_DIR\": \"base.DATA_DIR\", \n",
    "                                                                                                     \"DATA_NAME\": \"data_preprocess.DATA_NAME\"})"
   ]
  },
  {
   "cell_type": "code",
   "execution_count": 6,
   "id": "bfb72ef9-49d2-4ef9-91b3-ca400138cafd",
   "metadata": {
    "execution": {
     "iopub.execute_input": "2023-04-24T11:53:27.837094Z",
     "iopub.status.busy": "2023-04-24T11:53:27.836936Z",
     "iopub.status.idle": "2023-04-24T11:53:28.131240Z",
     "shell.execute_reply": "2023-04-24T11:53:28.130946Z"
    },
    "papermill": {
     "duration": 0.29869,
     "end_time": "2023-04-24T11:53:28.132170",
     "exception": false,
     "start_time": "2023-04-24T11:53:27.833480",
     "status": "completed"
    },
    "tags": []
   },
   "outputs": [
    {
     "name": "stderr",
     "output_type": "stream",
     "text": [
      "[nltk_data] Downloading package punkt to /Users/blarhdir/nltk_data..."
     ]
    },
    {
     "name": "stderr",
     "output_type": "stream",
     "text": [
      "\n"
     ]
    },
    {
     "name": "stderr",
     "output_type": "stream",
     "text": [
      "[nltk_data]   Package punkt is already up-to-date!"
     ]
    },
    {
     "name": "stderr",
     "output_type": "stream",
     "text": [
      "\n"
     ]
    },
    {
     "name": "stderr",
     "output_type": "stream",
     "text": [
      "[nltk_data] Downloading package stopwords to\n",
      "[nltk_data]     /Users/blarhdir/nltk_data..."
     ]
    },
    {
     "name": "stderr",
     "output_type": "stream",
     "text": [
      "\n"
     ]
    },
    {
     "name": "stderr",
     "output_type": "stream",
     "text": [
      "[nltk_data]   Package stopwords is already up-to-date!"
     ]
    },
    {
     "name": "stderr",
     "output_type": "stream",
     "text": [
      "\n"
     ]
    }
   ],
   "source": [
    "sys.path.append(UTILS_DIR)\n",
    "\n",
    "from utils.clean_text import clean_text\n",
    "from utils.counter_word import counter_word\n",
    "from utils.plot_target import plot_target"
   ]
  },
  {
   "cell_type": "markdown",
   "id": "b2e635d2-d910-4b31-9e93-95e18dd94c10",
   "metadata": {
    "papermill": {
     "duration": 0.003342,
     "end_time": "2023-04-24T11:53:28.139282",
     "exception": false,
     "start_time": "2023-04-24T11:53:28.135940",
     "status": "completed"
    },
    "tags": []
   },
   "source": [
    "### Added by DataScientists"
   ]
  },
  {
   "cell_type": "raw",
   "id": "63f91dfd-371e-4ea7-92b2-5ae59fc87c2f",
   "metadata": {
    "papermill": {
     "duration": 0.003061,
     "end_time": "2023-04-24T11:53:28.145492",
     "exception": false,
     "start_time": "2023-04-24T11:53:28.142431",
     "status": "completed"
    },
    "tags": []
   },
   "source": [
    "pipeline.add_deps_to_stage(\"data_preprocess\", \"utils/clean_text.py\", \"utils/counter_word.py\", \n",
    "                                              \"utils/plot_target.py\", \"../data/train_data_cleaning.csv\")"
   ]
  },
  {
   "cell_type": "markdown",
   "id": "58d851db-7935-4a00-9713-9415d627bb2a",
   "metadata": {
    "papermill": {
     "duration": 0.00346,
     "end_time": "2023-04-24T11:53:28.152045",
     "exception": false,
     "start_time": "2023-04-24T11:53:28.148585",
     "status": "completed"
    },
    "tags": []
   },
   "source": [
    "## DATA PREPROCESSING"
   ]
  },
  {
   "cell_type": "code",
   "execution_count": 7,
   "id": "8f56b8c1",
   "metadata": {
    "execution": {
     "iopub.execute_input": "2023-04-24T11:53:28.159082Z",
     "iopub.status.busy": "2023-04-24T11:53:28.158922Z",
     "iopub.status.idle": "2023-04-24T11:53:28.173032Z",
     "shell.execute_reply": "2023-04-24T11:53:28.172746Z"
    },
    "papermill": {
     "duration": 0.018922,
     "end_time": "2023-04-24T11:53:28.174111",
     "exception": false,
     "start_time": "2023-04-24T11:53:28.155189",
     "status": "completed"
    },
    "tags": []
   },
   "outputs": [],
   "source": [
    "train_df = pd.read_csv(DATA_DIR + DATA_NAME)"
   ]
  },
  {
   "cell_type": "code",
   "execution_count": 8,
   "id": "2ff80a80",
   "metadata": {
    "execution": {
     "iopub.execute_input": "2023-04-24T11:53:28.181087Z",
     "iopub.status.busy": "2023-04-24T11:53:28.180978Z",
     "iopub.status.idle": "2023-04-24T11:53:28.186477Z",
     "shell.execute_reply": "2023-04-24T11:53:28.186170Z"
    },
    "papermill": {
     "duration": 0.009944,
     "end_time": "2023-04-24T11:53:28.187371",
     "exception": false,
     "start_time": "2023-04-24T11:53:28.177427",
     "status": "completed"
    },
    "tags": []
   },
   "outputs": [
    {
     "name": "stdout",
     "output_type": "stream",
     "text": [
      "<class 'pandas.core.frame.DataFrame'>\n",
      "RangeIndex: 7613 entries, 0 to 7612\n",
      "Data columns (total 5 columns):\n",
      " #   Column    Non-Null Count  Dtype \n",
      "---  ------    --------------  ----- \n",
      " 0   id        7613 non-null   int64 \n",
      " 1   keyword   7552 non-null   object\n",
      " 2   location  5080 non-null   object\n",
      " 3   text      7613 non-null   object\n",
      " 4   target    7613 non-null   int64 \n",
      "dtypes: int64(2), object(3)\n",
      "memory usage: 297.5+ KB\n"
     ]
    }
   ],
   "source": [
    "train_df.info()"
   ]
  },
  {
   "cell_type": "code",
   "execution_count": 9,
   "id": "bfe3ab23",
   "metadata": {
    "execution": {
     "iopub.execute_input": "2023-04-24T11:53:28.194530Z",
     "iopub.status.busy": "2023-04-24T11:53:28.194391Z",
     "iopub.status.idle": "2023-04-24T11:53:28.199041Z",
     "shell.execute_reply": "2023-04-24T11:53:28.198664Z"
    },
    "papermill": {
     "duration": 0.009192,
     "end_time": "2023-04-24T11:53:28.200005",
     "exception": false,
     "start_time": "2023-04-24T11:53:28.190813",
     "status": "completed"
    },
    "tags": []
   },
   "outputs": [
    {
     "data": {
      "text/plain": [
       "id             0\n",
       "keyword       61\n",
       "location    2533\n",
       "text           0\n",
       "target         0\n",
       "dtype: int64"
      ]
     },
     "execution_count": 9,
     "metadata": {},
     "output_type": "execute_result"
    }
   ],
   "source": [
    "train_df.isnull().sum()"
   ]
  },
  {
   "cell_type": "code",
   "execution_count": 10,
   "id": "8e87ea04",
   "metadata": {
    "execution": {
     "iopub.execute_input": "2023-04-24T11:53:28.207585Z",
     "iopub.status.busy": "2023-04-24T11:53:28.207430Z",
     "iopub.status.idle": "2023-04-24T11:53:28.212491Z",
     "shell.execute_reply": "2023-04-24T11:53:28.212225Z"
    },
    "papermill": {
     "duration": 0.009783,
     "end_time": "2023-04-24T11:53:28.213391",
     "exception": false,
     "start_time": "2023-04-24T11:53:28.203608",
     "status": "completed"
    },
    "tags": []
   },
   "outputs": [
    {
     "data": {
      "text/html": [
       "<div>\n",
       "<style scoped>\n",
       "    .dataframe tbody tr th:only-of-type {\n",
       "        vertical-align: middle;\n",
       "    }\n",
       "\n",
       "    .dataframe tbody tr th {\n",
       "        vertical-align: top;\n",
       "    }\n",
       "\n",
       "    .dataframe thead th {\n",
       "        text-align: right;\n",
       "    }\n",
       "</style>\n",
       "<table border=\"1\" class=\"dataframe\">\n",
       "  <thead>\n",
       "    <tr style=\"text-align: right;\">\n",
       "      <th></th>\n",
       "      <th>id</th>\n",
       "      <th>keyword</th>\n",
       "      <th>location</th>\n",
       "      <th>text</th>\n",
       "      <th>target</th>\n",
       "    </tr>\n",
       "  </thead>\n",
       "  <tbody>\n",
       "    <tr>\n",
       "      <th>0</th>\n",
       "      <td>1</td>\n",
       "      <td>NaN</td>\n",
       "      <td>NaN</td>\n",
       "      <td>Our Deeds are the Reason of this  # earthquake...</td>\n",
       "      <td>1</td>\n",
       "    </tr>\n",
       "    <tr>\n",
       "      <th>1</th>\n",
       "      <td>4</td>\n",
       "      <td>NaN</td>\n",
       "      <td>NaN</td>\n",
       "      <td>Forest fire near La Ronge Sask .  Canada</td>\n",
       "      <td>1</td>\n",
       "    </tr>\n",
       "    <tr>\n",
       "      <th>2</th>\n",
       "      <td>5</td>\n",
       "      <td>NaN</td>\n",
       "      <td>NaN</td>\n",
       "      <td>All residents asked to  ' shelter in place '  ...</td>\n",
       "      <td>1</td>\n",
       "    </tr>\n",
       "    <tr>\n",
       "      <th>3</th>\n",
       "      <td>6</td>\n",
       "      <td>NaN</td>\n",
       "      <td>NaN</td>\n",
       "      <td>13,000 people receive  # wildfires evacuation ...</td>\n",
       "      <td>1</td>\n",
       "    </tr>\n",
       "    <tr>\n",
       "      <th>4</th>\n",
       "      <td>7</td>\n",
       "      <td>NaN</td>\n",
       "      <td>NaN</td>\n",
       "      <td>Just got sent this photo from Ruby  # Alaska a...</td>\n",
       "      <td>1</td>\n",
       "    </tr>\n",
       "  </tbody>\n",
       "</table>\n",
       "</div>"
      ],
      "text/plain": [
       "   id keyword location                                               text   \n",
       "0   1     NaN      NaN  Our Deeds are the Reason of this  # earthquake...  \\\n",
       "1   4     NaN      NaN           Forest fire near La Ronge Sask .  Canada   \n",
       "2   5     NaN      NaN  All residents asked to  ' shelter in place '  ...   \n",
       "3   6     NaN      NaN  13,000 people receive  # wildfires evacuation ...   \n",
       "4   7     NaN      NaN  Just got sent this photo from Ruby  # Alaska a...   \n",
       "\n",
       "   target  \n",
       "0       1  \n",
       "1       1  \n",
       "2       1  \n",
       "3       1  \n",
       "4       1  "
      ]
     },
     "execution_count": 10,
     "metadata": {},
     "output_type": "execute_result"
    }
   ],
   "source": [
    "train_df.head()"
   ]
  },
  {
   "cell_type": "code",
   "execution_count": 11,
   "id": "e343ab4d",
   "metadata": {
    "execution": {
     "iopub.execute_input": "2023-04-24T11:53:28.221387Z",
     "iopub.status.busy": "2023-04-24T11:53:28.221234Z",
     "iopub.status.idle": "2023-04-24T11:53:28.227125Z",
     "shell.execute_reply": "2023-04-24T11:53:28.226813Z"
    },
    "papermill": {
     "duration": 0.011037,
     "end_time": "2023-04-24T11:53:28.228061",
     "exception": false,
     "start_time": "2023-04-24T11:53:28.217024",
     "status": "completed"
    },
    "tags": []
   },
   "outputs": [
    {
     "data": {
      "text/html": [
       "<div>\n",
       "<style scoped>\n",
       "    .dataframe tbody tr th:only-of-type {\n",
       "        vertical-align: middle;\n",
       "    }\n",
       "\n",
       "    .dataframe tbody tr th {\n",
       "        vertical-align: top;\n",
       "    }\n",
       "\n",
       "    .dataframe thead th {\n",
       "        text-align: right;\n",
       "    }\n",
       "</style>\n",
       "<table border=\"1\" class=\"dataframe\">\n",
       "  <thead>\n",
       "    <tr style=\"text-align: right;\">\n",
       "      <th></th>\n",
       "      <th>id</th>\n",
       "      <th>target</th>\n",
       "    </tr>\n",
       "  </thead>\n",
       "  <tbody>\n",
       "    <tr>\n",
       "      <th>count</th>\n",
       "      <td>7613.000000</td>\n",
       "      <td>7613.00000</td>\n",
       "    </tr>\n",
       "    <tr>\n",
       "      <th>mean</th>\n",
       "      <td>5441.934848</td>\n",
       "      <td>0.42966</td>\n",
       "    </tr>\n",
       "    <tr>\n",
       "      <th>std</th>\n",
       "      <td>3137.116090</td>\n",
       "      <td>0.49506</td>\n",
       "    </tr>\n",
       "    <tr>\n",
       "      <th>min</th>\n",
       "      <td>1.000000</td>\n",
       "      <td>0.00000</td>\n",
       "    </tr>\n",
       "    <tr>\n",
       "      <th>25%</th>\n",
       "      <td>2734.000000</td>\n",
       "      <td>0.00000</td>\n",
       "    </tr>\n",
       "    <tr>\n",
       "      <th>50%</th>\n",
       "      <td>5408.000000</td>\n",
       "      <td>0.00000</td>\n",
       "    </tr>\n",
       "    <tr>\n",
       "      <th>75%</th>\n",
       "      <td>8146.000000</td>\n",
       "      <td>1.00000</td>\n",
       "    </tr>\n",
       "    <tr>\n",
       "      <th>max</th>\n",
       "      <td>10873.000000</td>\n",
       "      <td>1.00000</td>\n",
       "    </tr>\n",
       "  </tbody>\n",
       "</table>\n",
       "</div>"
      ],
      "text/plain": [
       "                 id      target\n",
       "count   7613.000000  7613.00000\n",
       "mean    5441.934848     0.42966\n",
       "std     3137.116090     0.49506\n",
       "min        1.000000     0.00000\n",
       "25%     2734.000000     0.00000\n",
       "50%     5408.000000     0.00000\n",
       "75%     8146.000000     1.00000\n",
       "max    10873.000000     1.00000"
      ]
     },
     "execution_count": 11,
     "metadata": {},
     "output_type": "execute_result"
    }
   ],
   "source": [
    "train_df.describe()"
   ]
  },
  {
   "cell_type": "code",
   "execution_count": 12,
   "id": "f7761258",
   "metadata": {
    "execution": {
     "iopub.execute_input": "2023-04-24T11:53:28.236077Z",
     "iopub.status.busy": "2023-04-24T11:53:28.235920Z",
     "iopub.status.idle": "2023-04-24T11:53:28.239873Z",
     "shell.execute_reply": "2023-04-24T11:53:28.239605Z"
    },
    "papermill": {
     "duration": 0.008977,
     "end_time": "2023-04-24T11:53:28.240735",
     "exception": false,
     "start_time": "2023-04-24T11:53:28.231758",
     "status": "completed"
    },
    "tags": []
   },
   "outputs": [
    {
     "data": {
      "text/plain": [
       "location\n",
       "USA                104\n",
       "New York            71\n",
       "United States       50\n",
       "London              45\n",
       "Canada              29\n",
       "Nigeria             28\n",
       "UK                  27\n",
       "Los Angeles, CA     26\n",
       "India               24\n",
       "Mumbai              22\n",
       "Name: count, dtype: int64"
      ]
     },
     "execution_count": 12,
     "metadata": {},
     "output_type": "execute_result"
    }
   ],
   "source": [
    "train_df.location.value_counts()[:10]"
   ]
  },
  {
   "cell_type": "code",
   "execution_count": 13,
   "id": "d515490b",
   "metadata": {
    "execution": {
     "iopub.execute_input": "2023-04-24T11:53:28.248652Z",
     "iopub.status.busy": "2023-04-24T11:53:28.248510Z",
     "iopub.status.idle": "2023-04-24T11:53:28.347085Z",
     "shell.execute_reply": "2023-04-24T11:53:28.346220Z"
    },
    "papermill": {
     "duration": 0.111277,
     "end_time": "2023-04-24T11:53:28.355712",
     "exception": false,
     "start_time": "2023-04-24T11:53:28.244435",
     "status": "completed"
    },
    "tags": []
   },
   "outputs": [
    {
     "data": {
      "text/plain": [
       "Text(0, 0.5, 'Count')"
      ]
     },
     "execution_count": 13,
     "metadata": {},
     "output_type": "execute_result"
    },
    {
     "data": {
      "image/png": "[encoded data removed]",
      "text/plain": [
       "<Figure size 640x480 with 1 Axes>"
      ]
     },
     "metadata": {},
     "output_type": "display_data"
    }
   ],
   "source": [
    "counts =train_df['target'].value_counts()\n",
    "sns.barplot(x=counts.index, y=counts)\n",
    "plt.xlabel('Target')\n",
    "plt.ylabel('Count')"
   ]
  },
  {
   "cell_type": "code",
   "execution_count": 14,
   "id": "532bb747",
   "metadata": {
    "execution": {
     "iopub.execute_input": "2023-04-24T11:53:28.373037Z",
     "iopub.status.busy": "2023-04-24T11:53:28.372640Z",
     "iopub.status.idle": "2023-04-24T11:53:28.381118Z",
     "shell.execute_reply": "2023-04-24T11:53:28.380200Z"
    },
    "papermill": {
     "duration": 0.022085,
     "end_time": "2023-04-24T11:53:28.388901",
     "exception": false,
     "start_time": "2023-04-24T11:53:28.366816",
     "status": "completed"
    },
    "tags": []
   },
   "outputs": [],
   "source": [
    "train_df['Text_length'] = train_df['text'].apply(len)"
   ]
  },
  {
   "cell_type": "code",
   "execution_count": 15,
   "id": "cd173207",
   "metadata": {
    "execution": {
     "iopub.execute_input": "2023-04-24T11:53:28.405617Z",
     "iopub.status.busy": "2023-04-24T11:53:28.405238Z",
     "iopub.status.idle": "2023-04-24T11:53:28.677091Z",
     "shell.execute_reply": "2023-04-24T11:53:28.676781Z"
    },
    "papermill": {
     "duration": 0.278432,
     "end_time": "2023-04-24T11:53:28.678147",
     "exception": false,
     "start_time": "2023-04-24T11:53:28.399715",
     "status": "completed"
    },
    "tags": []
   },
   "outputs": [
    {
     "data": {
      "text/plain": [
       "<seaborn.axisgrid.FacetGrid at 0x15c086a60>"
      ]
     },
     "execution_count": 15,
     "metadata": {},
     "output_type": "execute_result"
    },
    {
     "data": {
      "image/png": "[encoded data removed]",
      "text/plain": [
       "<Figure size 600x300 with 2 Axes>"
      ]
     },
     "metadata": {},
     "output_type": "display_data"
    }
   ],
   "source": [
    "length_text = sns.FacetGrid(data=train_df, col='target')\n",
    "length_text.map(plt.hist, 'Text_length', bins=20, color='r')"
   ]
  },
  {
   "cell_type": "code",
   "execution_count": 16,
   "id": "f0b20065",
   "metadata": {
    "execution": {
     "iopub.execute_input": "2023-04-24T11:53:28.687559Z",
     "iopub.status.busy": "2023-04-24T11:53:28.687382Z",
     "iopub.status.idle": "2023-04-24T11:53:28.690617Z",
     "shell.execute_reply": "2023-04-24T11:53:28.690313Z"
    },
    "papermill": {
     "duration": 0.00925,
     "end_time": "2023-04-24T11:53:28.691568",
     "exception": false,
     "start_time": "2023-04-24T11:53:28.682318",
     "status": "completed"
    },
    "tags": []
   },
   "outputs": [],
   "source": [
    "train_df.drop(['id','location','keyword'], axis=1, inplace=True)"
   ]
  },
  {
   "cell_type": "code",
   "execution_count": 17,
   "id": "e548a564",
   "metadata": {
    "execution": {
     "iopub.execute_input": "2023-04-24T11:53:28.700494Z",
     "iopub.status.busy": "2023-04-24T11:53:28.700166Z",
     "iopub.status.idle": "2023-04-24T11:53:28.704797Z",
     "shell.execute_reply": "2023-04-24T11:53:28.704508Z"
    },
    "papermill": {
     "duration": 0.010101,
     "end_time": "2023-04-24T11:53:28.705737",
     "exception": false,
     "start_time": "2023-04-24T11:53:28.695636",
     "status": "completed"
    },
    "tags": []
   },
   "outputs": [
    {
     "data": {
      "text/plain": [
       "text           0\n",
       "target         0\n",
       "Text_length    0\n",
       "dtype: int64"
      ]
     },
     "execution_count": 17,
     "metadata": {},
     "output_type": "execute_result"
    }
   ],
   "source": [
    "train_df.isnull().sum()"
   ]
  },
  {
   "cell_type": "code",
   "execution_count": 18,
   "id": "7f4aab60",
   "metadata": {
    "execution": {
     "iopub.execute_input": "2023-04-24T11:53:28.714741Z",
     "iopub.status.busy": "2023-04-24T11:53:28.714596Z",
     "iopub.status.idle": "2023-04-24T11:53:28.829317Z",
     "shell.execute_reply": "2023-04-24T11:53:28.828997Z"
    },
    "papermill": {
     "duration": 0.120324,
     "end_time": "2023-04-24T11:53:28.830369",
     "exception": false,
     "start_time": "2023-04-24T11:53:28.710045",
     "status": "completed"
    },
    "tags": []
   },
   "outputs": [
    {
     "data": {
      "image/png": "[encoded data removed]",
      "text/plain": [
       "<Figure size 640x480 with 1 Axes>"
      ]
     },
     "metadata": {},
     "output_type": "display_data"
    }
   ],
   "source": [
    "plot_target(train_df, \"Text_length\")"
   ]
  },
  {
   "cell_type": "code",
   "execution_count": 19,
   "id": "8ce15925",
   "metadata": {
    "execution": {
     "iopub.execute_input": "2023-04-24T11:53:28.839464Z",
     "iopub.status.busy": "2023-04-24T11:53:28.839320Z",
     "iopub.status.idle": "2023-04-24T11:53:28.853475Z",
     "shell.execute_reply": "2023-04-24T11:53:28.852762Z"
    },
    "papermill": {
     "duration": 0.019846,
     "end_time": "2023-04-24T11:53:28.854533",
     "exception": false,
     "start_time": "2023-04-24T11:53:28.834687",
     "status": "completed"
    },
    "tags": []
   },
   "outputs": [],
   "source": [
    "train_df['words_counts'] = train_df.text.str.split().map(lambda x: len(x))"
   ]
  },
  {
   "cell_type": "code",
   "execution_count": 20,
   "id": "8bbecde6",
   "metadata": {
    "execution": {
     "iopub.execute_input": "2023-04-24T11:53:28.863533Z",
     "iopub.status.busy": "2023-04-24T11:53:28.863390Z",
     "iopub.status.idle": "2023-04-24T11:53:28.867960Z",
     "shell.execute_reply": "2023-04-24T11:53:28.867649Z"
    },
    "papermill": {
     "duration": 0.010093,
     "end_time": "2023-04-24T11:53:28.868940",
     "exception": false,
     "start_time": "2023-04-24T11:53:28.858847",
     "status": "completed"
    },
    "tags": []
   },
   "outputs": [
    {
     "data": {
      "text/html": [
       "<div>\n",
       "<style scoped>\n",
       "    .dataframe tbody tr th:only-of-type {\n",
       "        vertical-align: middle;\n",
       "    }\n",
       "\n",
       "    .dataframe tbody tr th {\n",
       "        vertical-align: top;\n",
       "    }\n",
       "\n",
       "    .dataframe thead th {\n",
       "        text-align: right;\n",
       "    }\n",
       "</style>\n",
       "<table border=\"1\" class=\"dataframe\">\n",
       "  <thead>\n",
       "    <tr style=\"text-align: right;\">\n",
       "      <th></th>\n",
       "      <th>text</th>\n",
       "      <th>target</th>\n",
       "      <th>Text_length</th>\n",
       "      <th>words_counts</th>\n",
       "    </tr>\n",
       "  </thead>\n",
       "  <tbody>\n",
       "    <tr>\n",
       "      <th>0</th>\n",
       "      <td>Our Deeds are the Reason of this  # earthquake...</td>\n",
       "      <td>1</td>\n",
       "      <td>71</td>\n",
       "      <td>14</td>\n",
       "    </tr>\n",
       "    <tr>\n",
       "      <th>1</th>\n",
       "      <td>Forest fire near La Ronge Sask .  Canada</td>\n",
       "      <td>1</td>\n",
       "      <td>40</td>\n",
       "      <td>8</td>\n",
       "    </tr>\n",
       "    <tr>\n",
       "      <th>2</th>\n",
       "      <td>All residents asked to  ' shelter in place '  ...</td>\n",
       "      <td>1</td>\n",
       "      <td>139</td>\n",
       "      <td>25</td>\n",
       "    </tr>\n",
       "    <tr>\n",
       "      <th>3</th>\n",
       "      <td>13,000 people receive  # wildfires evacuation ...</td>\n",
       "      <td>1</td>\n",
       "      <td>67</td>\n",
       "      <td>9</td>\n",
       "    </tr>\n",
       "    <tr>\n",
       "      <th>4</th>\n",
       "      <td>Just got sent this photo from Ruby  # Alaska a...</td>\n",
       "      <td>1</td>\n",
       "      <td>92</td>\n",
       "      <td>18</td>\n",
       "    </tr>\n",
       "  </tbody>\n",
       "</table>\n",
       "</div>"
      ],
      "text/plain": [
       "                                                text  target  Text_length   \n",
       "0  Our Deeds are the Reason of this  # earthquake...       1           71  \\\n",
       "1           Forest fire near La Ronge Sask .  Canada       1           40   \n",
       "2  All residents asked to  ' shelter in place '  ...       1          139   \n",
       "3  13,000 people receive  # wildfires evacuation ...       1           67   \n",
       "4  Just got sent this photo from Ruby  # Alaska a...       1           92   \n",
       "\n",
       "   words_counts  \n",
       "0            14  \n",
       "1             8  \n",
       "2            25  \n",
       "3             9  \n",
       "4            18  "
      ]
     },
     "execution_count": 20,
     "metadata": {},
     "output_type": "execute_result"
    }
   ],
   "source": [
    "train_df.head()"
   ]
  },
  {
   "cell_type": "code",
   "execution_count": 21,
   "id": "5ba0efa1",
   "metadata": {
    "execution": {
     "iopub.execute_input": "2023-04-24T11:53:28.878254Z",
     "iopub.status.busy": "2023-04-24T11:53:28.878103Z",
     "iopub.status.idle": "2023-04-24T11:53:28.987208Z",
     "shell.execute_reply": "2023-04-24T11:53:28.986911Z"
    },
    "papermill": {
     "duration": 0.114889,
     "end_time": "2023-04-24T11:53:28.988217",
     "exception": false,
     "start_time": "2023-04-24T11:53:28.873328",
     "status": "completed"
    },
    "tags": []
   },
   "outputs": [
    {
     "data": {
      "image/png": "[encoded data removed]",
      "text/plain": [
       "<Figure size 640x480 with 1 Axes>"
      ]
     },
     "metadata": {},
     "output_type": "display_data"
    }
   ],
   "source": [
    "plot_target(train_df, \"words_counts\")"
   ]
  },
  {
   "cell_type": "code",
   "execution_count": 22,
   "id": "c5c920a3",
   "metadata": {
    "execution": {
     "iopub.execute_input": "2023-04-24T11:53:28.997856Z",
     "iopub.status.busy": "2023-04-24T11:53:28.997709Z",
     "iopub.status.idle": "2023-04-24T11:53:29.013761Z",
     "shell.execute_reply": "2023-04-24T11:53:29.013410Z"
    },
    "papermill": {
     "duration": 0.021838,
     "end_time": "2023-04-24T11:53:29.014714",
     "exception": false,
     "start_time": "2023-04-24T11:53:28.992876",
     "status": "completed"
    },
    "tags": []
   },
   "outputs": [],
   "source": [
    "train_df['unique_word_count'] = train_df.text.map(lambda x: len(set(str(x).split())))"
   ]
  },
  {
   "cell_type": "code",
   "execution_count": 23,
   "id": "4bc81b77",
   "metadata": {
    "execution": {
     "iopub.execute_input": "2023-04-24T11:53:29.025282Z",
     "iopub.status.busy": "2023-04-24T11:53:29.024885Z",
     "iopub.status.idle": "2023-04-24T11:53:29.030431Z",
     "shell.execute_reply": "2023-04-24T11:53:29.030071Z"
    },
    "papermill": {
     "duration": 0.012146,
     "end_time": "2023-04-24T11:53:29.031484",
     "exception": false,
     "start_time": "2023-04-24T11:53:29.019338",
     "status": "completed"
    },
    "tags": []
   },
   "outputs": [
    {
     "data": {
      "text/html": [
       "<div>\n",
       "<style scoped>\n",
       "    .dataframe tbody tr th:only-of-type {\n",
       "        vertical-align: middle;\n",
       "    }\n",
       "\n",
       "    .dataframe tbody tr th {\n",
       "        vertical-align: top;\n",
       "    }\n",
       "\n",
       "    .dataframe thead th {\n",
       "        text-align: right;\n",
       "    }\n",
       "</style>\n",
       "<table border=\"1\" class=\"dataframe\">\n",
       "  <thead>\n",
       "    <tr style=\"text-align: right;\">\n",
       "      <th></th>\n",
       "      <th>text</th>\n",
       "      <th>target</th>\n",
       "      <th>Text_length</th>\n",
       "      <th>words_counts</th>\n",
       "      <th>unique_word_count</th>\n",
       "    </tr>\n",
       "  </thead>\n",
       "  <tbody>\n",
       "    <tr>\n",
       "      <th>0</th>\n",
       "      <td>Our Deeds are the Reason of this  # earthquake...</td>\n",
       "      <td>1</td>\n",
       "      <td>71</td>\n",
       "      <td>14</td>\n",
       "      <td>14</td>\n",
       "    </tr>\n",
       "    <tr>\n",
       "      <th>1</th>\n",
       "      <td>Forest fire near La Ronge Sask .  Canada</td>\n",
       "      <td>1</td>\n",
       "      <td>40</td>\n",
       "      <td>8</td>\n",
       "      <td>8</td>\n",
       "    </tr>\n",
       "    <tr>\n",
       "      <th>2</th>\n",
       "      <td>All residents asked to  ' shelter in place '  ...</td>\n",
       "      <td>1</td>\n",
       "      <td>139</td>\n",
       "      <td>25</td>\n",
       "      <td>20</td>\n",
       "    </tr>\n",
       "    <tr>\n",
       "      <th>3</th>\n",
       "      <td>13,000 people receive  # wildfires evacuation ...</td>\n",
       "      <td>1</td>\n",
       "      <td>67</td>\n",
       "      <td>9</td>\n",
       "      <td>9</td>\n",
       "    </tr>\n",
       "    <tr>\n",
       "      <th>4</th>\n",
       "      <td>Just got sent this photo from Ruby  # Alaska a...</td>\n",
       "      <td>1</td>\n",
       "      <td>92</td>\n",
       "      <td>18</td>\n",
       "      <td>16</td>\n",
       "    </tr>\n",
       "  </tbody>\n",
       "</table>\n",
       "</div>"
      ],
      "text/plain": [
       "                                                text  target  Text_length   \n",
       "0  Our Deeds are the Reason of this  # earthquake...       1           71  \\\n",
       "1           Forest fire near La Ronge Sask .  Canada       1           40   \n",
       "2  All residents asked to  ' shelter in place '  ...       1          139   \n",
       "3  13,000 people receive  # wildfires evacuation ...       1           67   \n",
       "4  Just got sent this photo from Ruby  # Alaska a...       1           92   \n",
       "\n",
       "   words_counts  unique_word_count  \n",
       "0            14                 14  \n",
       "1             8                  8  \n",
       "2            25                 20  \n",
       "3             9                  9  \n",
       "4            18                 16  "
      ]
     },
     "execution_count": 23,
     "metadata": {},
     "output_type": "execute_result"
    }
   ],
   "source": [
    "train_df.head()"
   ]
  },
  {
   "cell_type": "code",
   "execution_count": 24,
   "id": "596a12ec",
   "metadata": {
    "execution": {
     "iopub.execute_input": "2023-04-24T11:53:29.042903Z",
     "iopub.status.busy": "2023-04-24T11:53:29.042437Z",
     "iopub.status.idle": "2023-04-24T11:53:29.209461Z",
     "shell.execute_reply": "2023-04-24T11:53:29.209154Z"
    },
    "papermill": {
     "duration": 0.174308,
     "end_time": "2023-04-24T11:53:29.210457",
     "exception": false,
     "start_time": "2023-04-24T11:53:29.036149",
     "status": "completed"
    },
    "tags": []
   },
   "outputs": [
    {
     "data": {
      "image/png": "[encoded data removed]",
      "text/plain": [
       "<Figure size 640x480 with 1 Axes>"
      ]
     },
     "metadata": {},
     "output_type": "display_data"
    }
   ],
   "source": [
    "plot_target(train_df, 'unique_word_count')"
   ]
  },
  {
   "cell_type": "code",
   "execution_count": 25,
   "id": "e958ed62",
   "metadata": {
    "execution": {
     "iopub.execute_input": "2023-04-24T11:53:29.221046Z",
     "iopub.status.busy": "2023-04-24T11:53:29.220870Z",
     "iopub.status.idle": "2023-04-24T11:53:29.251285Z",
     "shell.execute_reply": "2023-04-24T11:53:29.250511Z"
    },
    "papermill": {
     "duration": 0.037485,
     "end_time": "2023-04-24T11:53:29.252833",
     "exception": false,
     "start_time": "2023-04-24T11:53:29.215348",
     "status": "completed"
    },
    "tags": []
   },
   "outputs": [],
   "source": [
    "train_df['punctuation_count'] = train_df['text'].map(lambda x: len([c for c in str(x) if c in string.punctuation]))"
   ]
  },
  {
   "cell_type": "code",
   "execution_count": 26,
   "id": "7617bffa",
   "metadata": {
    "execution": {
     "iopub.execute_input": "2023-04-24T11:53:29.262850Z",
     "iopub.status.busy": "2023-04-24T11:53:29.262697Z",
     "iopub.status.idle": "2023-04-24T11:53:29.268275Z",
     "shell.execute_reply": "2023-04-24T11:53:29.267453Z"
    },
    "papermill": {
     "duration": 0.011764,
     "end_time": "2023-04-24T11:53:29.269386",
     "exception": false,
     "start_time": "2023-04-24T11:53:29.257622",
     "status": "completed"
    },
    "tags": []
   },
   "outputs": [
    {
     "data": {
      "text/html": [
       "<div>\n",
       "<style scoped>\n",
       "    .dataframe tbody tr th:only-of-type {\n",
       "        vertical-align: middle;\n",
       "    }\n",
       "\n",
       "    .dataframe tbody tr th {\n",
       "        vertical-align: top;\n",
       "    }\n",
       "\n",
       "    .dataframe thead th {\n",
       "        text-align: right;\n",
       "    }\n",
       "</style>\n",
       "<table border=\"1\" class=\"dataframe\">\n",
       "  <thead>\n",
       "    <tr style=\"text-align: right;\">\n",
       "      <th></th>\n",
       "      <th>text</th>\n",
       "      <th>target</th>\n",
       "      <th>Text_length</th>\n",
       "      <th>words_counts</th>\n",
       "      <th>unique_word_count</th>\n",
       "      <th>punctuation_count</th>\n",
       "    </tr>\n",
       "  </thead>\n",
       "  <tbody>\n",
       "    <tr>\n",
       "      <th>0</th>\n",
       "      <td>Our Deeds are the Reason of this  # earthquake...</td>\n",
       "      <td>1</td>\n",
       "      <td>71</td>\n",
       "      <td>14</td>\n",
       "      <td>14</td>\n",
       "      <td>1</td>\n",
       "    </tr>\n",
       "    <tr>\n",
       "      <th>1</th>\n",
       "      <td>Forest fire near La Ronge Sask .  Canada</td>\n",
       "      <td>1</td>\n",
       "      <td>40</td>\n",
       "      <td>8</td>\n",
       "      <td>8</td>\n",
       "      <td>1</td>\n",
       "    </tr>\n",
       "    <tr>\n",
       "      <th>2</th>\n",
       "      <td>All residents asked to  ' shelter in place '  ...</td>\n",
       "      <td>1</td>\n",
       "      <td>139</td>\n",
       "      <td>25</td>\n",
       "      <td>20</td>\n",
       "      <td>3</td>\n",
       "    </tr>\n",
       "    <tr>\n",
       "      <th>3</th>\n",
       "      <td>13,000 people receive  # wildfires evacuation ...</td>\n",
       "      <td>1</td>\n",
       "      <td>67</td>\n",
       "      <td>9</td>\n",
       "      <td>9</td>\n",
       "      <td>2</td>\n",
       "    </tr>\n",
       "    <tr>\n",
       "      <th>4</th>\n",
       "      <td>Just got sent this photo from Ruby  # Alaska a...</td>\n",
       "      <td>1</td>\n",
       "      <td>92</td>\n",
       "      <td>18</td>\n",
       "      <td>16</td>\n",
       "      <td>2</td>\n",
       "    </tr>\n",
       "  </tbody>\n",
       "</table>\n",
       "</div>"
      ],
      "text/plain": [
       "                                                text  target  Text_length   \n",
       "0  Our Deeds are the Reason of this  # earthquake...       1           71  \\\n",
       "1           Forest fire near La Ronge Sask .  Canada       1           40   \n",
       "2  All residents asked to  ' shelter in place '  ...       1          139   \n",
       "3  13,000 people receive  # wildfires evacuation ...       1           67   \n",
       "4  Just got sent this photo from Ruby  # Alaska a...       1           92   \n",
       "\n",
       "   words_counts  unique_word_count  punctuation_count  \n",
       "0            14                 14                  1  \n",
       "1             8                  8                  1  \n",
       "2            25                 20                  3  \n",
       "3             9                  9                  2  \n",
       "4            18                 16                  2  "
      ]
     },
     "execution_count": 26,
     "metadata": {},
     "output_type": "execute_result"
    }
   ],
   "source": [
    "train_df.head()"
   ]
  },
  {
   "cell_type": "code",
   "execution_count": 27,
   "id": "4c325140",
   "metadata": {
    "execution": {
     "iopub.execute_input": "2023-04-24T11:53:29.279946Z",
     "iopub.status.busy": "2023-04-24T11:53:29.279736Z",
     "iopub.status.idle": "2023-04-24T11:53:29.387042Z",
     "shell.execute_reply": "2023-04-24T11:53:29.386714Z"
    },
    "papermill": {
     "duration": 0.114175,
     "end_time": "2023-04-24T11:53:29.388445",
     "exception": false,
     "start_time": "2023-04-24T11:53:29.274270",
     "status": "completed"
    },
    "tags": []
   },
   "outputs": [
    {
     "data": {
      "image/png": "[encoded data removed]",
      "text/plain": [
       "<Figure size 640x480 with 1 Axes>"
      ]
     },
     "metadata": {},
     "output_type": "display_data"
    }
   ],
   "source": [
    "plot_target(train_df, 'punctuation_count')"
   ]
  },
  {
   "cell_type": "code",
   "execution_count": 28,
   "id": "8c3d9bda",
   "metadata": {
    "execution": {
     "iopub.execute_input": "2023-04-24T11:53:29.399102Z",
     "iopub.status.busy": "2023-04-24T11:53:29.398949Z",
     "iopub.status.idle": "2023-04-24T11:53:30.500238Z",
     "shell.execute_reply": "2023-04-24T11:53:30.499944Z"
    },
    "papermill": {
     "duration": 1.108307,
     "end_time": "2023-04-24T11:53:30.501785",
     "exception": false,
     "start_time": "2023-04-24T11:53:29.393478",
     "status": "completed"
    },
    "tags": []
   },
   "outputs": [],
   "source": [
    "train_df['Text_cleaning'] = train_df.text.apply(clean_text)"
   ]
  },
  {
   "cell_type": "code",
   "execution_count": 29,
   "id": "0a6efb6d",
   "metadata": {
    "execution": {
     "iopub.execute_input": "2023-04-24T11:53:30.512025Z",
     "iopub.status.busy": "2023-04-24T11:53:30.511855Z",
     "iopub.status.idle": "2023-04-24T11:53:30.515254Z",
     "shell.execute_reply": "2023-04-24T11:53:30.514951Z"
    },
    "papermill": {
     "duration": 0.009628,
     "end_time": "2023-04-24T11:53:30.516202",
     "exception": false,
     "start_time": "2023-04-24T11:53:30.506574",
     "status": "completed"
    },
    "tags": []
   },
   "outputs": [],
   "source": [
    "x_1 = train_df[train_df.target == 1][\"Text_cleaning\"]\n",
    "x_0 = train_df[train_df.target == 0][\"Text_cleaning\"]"
   ]
  },
  {
   "cell_type": "code",
   "execution_count": 30,
   "id": "fa5212bb",
   "metadata": {
    "execution": {
     "iopub.execute_input": "2023-04-24T11:53:30.526857Z",
     "iopub.status.busy": "2023-04-24T11:53:30.526616Z",
     "iopub.status.idle": "2023-04-24T11:53:30.528724Z",
     "shell.execute_reply": "2023-04-24T11:53:30.528427Z"
    },
    "papermill": {
     "duration": 0.008605,
     "end_time": "2023-04-24T11:53:30.529559",
     "exception": false,
     "start_time": "2023-04-24T11:53:30.520954",
     "status": "completed"
    },
    "tags": []
   },
   "outputs": [],
   "source": [
    "X = train_df['Text_cleaning']\n",
    "y = train_df['target']"
   ]
  },
  {
   "cell_type": "code",
   "execution_count": 31,
   "id": "e3f402ae",
   "metadata": {
    "execution": {
     "iopub.execute_input": "2023-04-24T11:53:30.539987Z",
     "iopub.status.busy": "2023-04-24T11:53:30.539829Z",
     "iopub.status.idle": "2023-04-24T11:53:30.542613Z",
     "shell.execute_reply": "2023-04-24T11:53:30.542339Z"
    },
    "papermill": {
     "duration": 0.009286,
     "end_time": "2023-04-24T11:53:30.543539",
     "exception": false,
     "start_time": "2023-04-24T11:53:30.534253",
     "status": "completed"
    },
    "tags": []
   },
   "outputs": [],
   "source": [
    "X_train, X_test, y_train, y_test = train_test_split(X, y, test_size=0.2)"
   ]
  },
  {
   "cell_type": "code",
   "execution_count": 32,
   "id": "5523cce6",
   "metadata": {
    "execution": {
     "iopub.execute_input": "2023-04-24T11:53:30.553357Z",
     "iopub.status.busy": "2023-04-24T11:53:30.553221Z",
     "iopub.status.idle": "2023-04-24T11:53:30.599903Z",
     "shell.execute_reply": "2023-04-24T11:53:30.599609Z"
    },
    "papermill": {
     "duration": 0.052841,
     "end_time": "2023-04-24T11:53:30.601032",
     "exception": false,
     "start_time": "2023-04-24T11:53:30.548191",
     "status": "completed"
    },
    "tags": []
   },
   "outputs": [],
   "source": [
    "count_vectorizer = CountVectorizer()\n",
    "train_counts = count_vectorizer.fit_transform(train_df['Text_cleaning'])"
   ]
  },
  {
   "cell_type": "code",
   "execution_count": 33,
   "id": "0d8484ed",
   "metadata": {
    "execution": {
     "iopub.execute_input": "2023-04-24T11:53:30.610790Z",
     "iopub.status.busy": "2023-04-24T11:53:30.610666Z",
     "iopub.status.idle": "2023-04-24T11:53:30.626230Z",
     "shell.execute_reply": "2023-04-24T11:53:30.625849Z"
    },
    "papermill": {
     "duration": 0.021355,
     "end_time": "2023-04-24T11:53:30.627074",
     "exception": false,
     "start_time": "2023-04-24T11:53:30.605719",
     "status": "completed"
    },
    "tags": []
   },
   "outputs": [],
   "source": [
    "text = train_df['Text_cleaning']\n",
    "counter = counter_word(text)"
   ]
  },
  {
   "cell_type": "code",
   "execution_count": 34,
   "id": "8daa9e34",
   "metadata": {
    "execution": {
     "iopub.execute_input": "2023-04-24T11:53:30.637726Z",
     "iopub.status.busy": "2023-04-24T11:53:30.637558Z",
     "iopub.status.idle": "2023-04-24T11:53:30.640069Z",
     "shell.execute_reply": "2023-04-24T11:53:30.639763Z"
    },
    "papermill": {
     "duration": 0.008991,
     "end_time": "2023-04-24T11:53:30.640985",
     "exception": false,
     "start_time": "2023-04-24T11:53:30.631994",
     "status": "completed"
    },
    "tags": []
   },
   "outputs": [
    {
     "data": {
      "text/plain": [
       "15684"
      ]
     },
     "execution_count": 34,
     "metadata": {},
     "output_type": "execute_result"
    }
   ],
   "source": [
    "len(counter)"
   ]
  },
  {
   "cell_type": "code",
   "execution_count": 35,
   "id": "82e07e51-5b66-4d5b-a470-b630f1568205",
   "metadata": {
    "execution": {
     "iopub.execute_input": "2023-04-24T11:53:30.651053Z",
     "iopub.status.busy": "2023-04-24T11:53:30.650884Z",
     "iopub.status.idle": "2023-04-24T11:53:30.653375Z",
     "shell.execute_reply": "2023-04-24T11:53:30.653067Z"
    },
    "papermill": {
     "duration": 0.008581,
     "end_time": "2023-04-24T11:53:30.654312",
     "exception": false,
     "start_time": "2023-04-24T11:53:30.645731",
     "status": "completed"
    },
    "tags": []
   },
   "outputs": [],
   "source": [
    "live.log_metric(\"len_counter\", len(counter))"
   ]
  },
  {
   "cell_type": "markdown",
   "id": "3500d4aa-caa0-4487-88fd-e2fe92027dc1",
   "metadata": {
    "papermill": {
     "duration": 0.004651,
     "end_time": "2023-04-24T11:53:30.663711",
     "exception": false,
     "start_time": "2023-04-24T11:53:30.659060",
     "status": "completed"
    },
    "tags": []
   },
   "source": [
    "### OUTPUTS"
   ]
  },
  {
   "cell_type": "code",
   "execution_count": 36,
   "id": "3076863a-d3ab-4753-88a8-8ac16e37708a",
   "metadata": {
    "execution": {
     "iopub.execute_input": "2023-04-24T11:53:30.673829Z",
     "iopub.status.busy": "2023-04-24T11:53:30.673563Z",
     "iopub.status.idle": "2023-04-24T11:53:30.678748Z",
     "shell.execute_reply": "2023-04-24T11:53:30.678452Z"
    },
    "papermill": {
     "duration": 0.01132,
     "end_time": "2023-04-24T11:53:30.679695",
     "exception": false,
     "start_time": "2023-04-24T11:53:30.668375",
     "status": "completed"
    },
    "tags": []
   },
   "outputs": [],
   "source": [
    "pickle.dump(X, open(DATA_DIR + \"X.pckl\", \"wb\"))\n",
    "pickle.dump(X_train, open(DATA_DIR + \"X_train.pckl\", \"wb\"))\n",
    "pickle.dump(X_test, open(DATA_DIR +\"X_test.pckl\", \"wb\"))\n",
    "\n",
    "pickle.dump(y, open(DATA_DIR + \"y.pckl\", \"wb\"))\n",
    "pickle.dump(y_train, open(DATA_DIR + \"y_train.pckl\", \"wb\"))\n",
    "pickle.dump(y_test, open(DATA_DIR + \"y_test.pckl\", \"wb\"))"
   ]
  },
  {
   "cell_type": "code",
   "execution_count": 37,
   "id": "8b6173a8-d111-4bf8-bc94-566b6503d89e",
   "metadata": {
    "execution": {
     "iopub.execute_input": "2023-04-24T11:53:30.690141Z",
     "iopub.status.busy": "2023-04-24T11:53:30.689976Z",
     "iopub.status.idle": "2023-04-24T11:53:30.693800Z",
     "shell.execute_reply": "2023-04-24T11:53:30.693512Z"
    },
    "papermill": {
     "duration": 0.010071,
     "end_time": "2023-04-24T11:53:30.694663",
     "exception": false,
     "start_time": "2023-04-24T11:53:30.684592",
     "status": "completed"
    },
    "tags": []
   },
   "outputs": [],
   "source": [
    "pickle.dump(counter, open(DATA_DIR + \"counter.pckl\", \"wb\"))"
   ]
  },
  {
   "cell_type": "markdown",
   "id": "8d59d147-9232-483b-960a-c598b06b2d9e",
   "metadata": {
    "papermill": {
     "duration": 0.004644,
     "end_time": "2023-04-24T11:53:30.704105",
     "exception": false,
     "start_time": "2023-04-24T11:53:30.699461",
     "status": "completed"
    },
    "tags": []
   },
   "source": [
    "### Added by DataScientists"
   ]
  },
  {
   "cell_type": "raw",
   "id": "c32755c9-f64a-4bd9-91e1-0320817c9277",
   "metadata": {
    "papermill": {
     "duration": 0.004487,
     "end_time": "2023-04-24T11:53:30.713171",
     "exception": false,
     "start_time": "2023-04-24T11:53:30.708684",
     "status": "completed"
    },
    "tags": []
   },
   "source": [
    "pipeline.add_outs_to_stage('data_preprocess', '../data/X.pckl', '../data/X_train.pckl', '../data/X_test.pckl',\n",
    "                                              '../data/y.pckl', '../data/y_train.pckl', '../data/y_test.pckl',\n",
    "                                              '../data/counter.pckl')"
   ]
  },
  {
   "cell_type": "markdown",
   "id": "bf8c92b7-07dc-436d-85c7-a7b567bfa3dc",
   "metadata": {
    "papermill": {
     "duration": 0.004612,
     "end_time": "2023-04-24T11:53:30.722383",
     "exception": false,
     "start_time": "2023-04-24T11:53:30.717771",
     "status": "completed"
    },
    "tags": []
   },
   "source": [
    "### Added by DataScientists"
   ]
  },
  {
   "cell_type": "raw",
   "id": "fba9c108-a639-4f35-89e5-c941f6b83da2",
   "metadata": {
    "papermill": {
     "duration": 0.004566,
     "end_time": "2023-04-24T11:53:30.731488",
     "exception": false,
     "start_time": "2023-04-24T11:53:30.726922",
     "status": "completed"
    },
    "tags": []
   },
   "source": [
    "pipeline.link_params_to_stage('data_preprocess', 'base', 'data_preprocess')"
   ]
  }
 ],
 "metadata": {
  "kernelspec": {
   "display_name": "venv",
   "language": "python",
   "name": "venv"
  },
  "language_info": {
   "codemirror_mode": {
    "name": "ipython",
    "version": 3
   },
   "file_extension": ".py",
   "mimetype": "text/x-python",
   "name": "python",
   "nbconvert_exporter": "python",
   "pygments_lexer": "ipython3",
   "version": "3.9.6"
  },
  "papermill": {
   "default_parameters": {},
   "duration": 5.366322,
   "end_time": "2023-04-24T11:53:31.054544",
   "environment_variables": {},
   "exception": null,
   "input_path": "./data_preprocess.ipynb",
   "output_path": "../outputs/data_preprocess_out.ipynb",
   "parameters": {
    "DATA_DIR": "../data/",
    "DATA_NAME": "train_data_cleaning.csv",
    "UTILS_DIR": "./"
   },
   "start_time": "2023-04-24T11:53:25.688222",
   "version": "2.3.3"
  }
 },
 "nbformat": 4,
 "nbformat_minor": 5
}