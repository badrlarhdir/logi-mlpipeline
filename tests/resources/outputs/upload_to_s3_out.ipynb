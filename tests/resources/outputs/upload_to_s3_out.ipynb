{
 "cells": [
  {
   "cell_type": "code",
   "execution_count": 1,
   "id": "624601c8",
   "metadata": {
    "execution": {
     "iopub.execute_input": "2023-05-05T12:14:52.069131Z",
     "iopub.status.busy": "2023-05-05T12:14:52.068226Z",
     "iopub.status.idle": "2023-05-05T12:14:52.216981Z",
     "shell.execute_reply": "2023-05-05T12:14:52.216704Z"
    },
    "papermill": {
     "duration": 0.161014,
     "end_time": "2023-05-05T12:14:52.218101",
     "exception": false,
     "start_time": "2023-05-05T12:14:52.057087",
     "status": "completed"
    },
    "tags": []
   },
   "outputs": [],
   "source": [
    "from mlpipeline.s3 import upload_folder_to_s3"
   ]
  },
  {
   "cell_type": "raw",
   "id": "ccca50e4",
   "metadata": {
    "papermill": {
     "duration": 0.000635,
     "end_time": "2023-05-05T12:14:52.219709",
     "exception": false,
     "start_time": "2023-05-05T12:14:52.219074",
     "status": "completed"
    },
    "tags": []
   },
   "source": [
    "pipeline.set_pipeline_stage(\"upload_to_s3\", \"upload_to_s3.ipynb\", \"upload_to_s3_out.ipynb\", {})"
   ]
  },
  {
   "cell_type": "raw",
   "id": "b41a9fed",
   "metadata": {
    "papermill": {
     "duration": 0.000575,
     "end_time": "2023-05-05T12:14:52.220882",
     "exception": false,
     "start_time": "2023-05-05T12:14:52.220307",
     "status": "completed"
    },
    "tags": []
   },
   "source": [
    "pipeline.add_deps_to_stage(\"upload_to_s3\", '../data/experiment_end.txt')"
   ]
  },
  {
   "cell_type": "code",
   "execution_count": 2,
   "id": "703e28a5",
   "metadata": {
    "execution": {
     "iopub.execute_input": "2023-05-05T12:14:52.222628Z",
     "iopub.status.busy": "2023-05-05T12:14:52.222475Z",
     "iopub.status.idle": "2023-05-05T12:14:55.786800Z",
     "shell.execute_reply": "2023-05-05T12:14:55.785328Z"
    },
    "papermill": {
     "duration": 3.569333,
     "end_time": "2023-05-05T12:14:55.790795",
     "exception": false,
     "start_time": "2023-05-05T12:14:52.221462",
     "status": "completed"
    },
    "tags": []
   },
   "outputs": [
    {
     "name": "stdout",
     "output_type": "stream",
     "text": [
      "Uploading outputs to s3...\n"
     ]
    },
    {
     "name": "stdout",
     "output_type": "stream",
     "text": [
      "Outputs uploaded to s3\n"
     ]
    }
   ],
   "source": [
    "upload_folder_to_s3(\"sw-data-mlops-internship-mlops-example\", \"../outputs\", \"notebook_outputs\")"
   ]
  },
  {
   "cell_type": "code",
   "execution_count": null,
   "id": "03c924b0",
   "metadata": {
    "papermill": {
     "duration": 0.002929,
     "end_time": "2023-05-05T12:14:55.798856",
     "exception": false,
     "start_time": "2023-05-05T12:14:55.795927",
     "status": "completed"
    },
    "tags": []
   },
   "outputs": [],
   "source": []
  }
 ],
 "metadata": {
  "kernelspec": {
   "display_name": "venv",
   "language": "python",
   "name": "venv"
  },
  "language_info": {
   "codemirror_mode": {
    "name": "ipython",
    "version": 3
   },
   "file_extension": ".py",
   "mimetype": "text/x-python",
   "name": "python",
   "nbconvert_exporter": "python",
   "pygments_lexer": "ipython3",
   "version": "3.9.6"
  },
  "papermill": {
   "default_parameters": {},
   "duration": 4.833686,
   "end_time": "2023-05-05T12:14:56.023333",
   "environment_variables": {},
   "exception": null,
   "input_path": "./upload_to_s3.ipynb",
   "output_path": "../outputs/upload_to_s3_out.ipynb",
   "parameters": {},
   "start_time": "2023-05-05T12:14:51.189647",
   "version": "2.4.0"
  }
 },
 "nbformat": 4,
 "nbformat_minor": 5
}