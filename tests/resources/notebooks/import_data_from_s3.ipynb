{
  "cells": [
    {
      "attachments": {},
      "cell_type": "markdown",
      "metadata": {},
      "source": [
        "## AWS S3 Import"
      ]
    },
    {
      "cell_type": "code",
      "execution_count": 1,
      "metadata": {},
      "outputs": [],
      "source": [
        "from mlpipeline.s3 import download_from_s3, delete_file_or_folder"
      ]
    },
    {
      "cell_type": "code",
      "execution_count": 3,
      "metadata": {},
      "outputs": [
        {
          "name": "stdout",
          "output_type": "stream",
          "text": [
            "Importing 's3://sw-data-mlops-internship/train_data_cleaning.csv' -> '../data/train_data_cleaning.csv'\n",
            "\n",
            "To track the changes with git, run:\n",
            "\n",
            "\tgit add ../data/.gitignore ../data/train_data_cleaning.csv.dvc\n",
            "\n",
            "To enable auto staging, run:\n",
            "\n",
            "\tdvc config core.autostage true\n"
          ]
        }
      ],
      "source": [
        "download_from_s3(\"s3://sw-data-mlops-internship/train_data_cleaning.csv\", \n",
        "                \"../data/train_data_cleaning.csv\", download=True)"
      ]
    },
    {
      "cell_type": "code",
      "execution_count": 4,
      "metadata": {},
      "outputs": [],
      "source": [
        "# Run it the untrack the file from the pipeline\n",
        "# delete_file_or_folder(\"../data/train_data_cleaning.csv\", delete=True)"
      ]
    },
    {
      "cell_type": "code",
      "execution_count": null,
      "metadata": {},
      "outputs": [],
      "source": []
    }
  ],
  "metadata": {
    "kernelspec": {
      "display_name": "venv",
      "language": "python",
      "name": "python3"
    },
    "language_info": {
      "codemirror_mode": {
        "name": "ipython",
        "version": 3
      },
      "file_extension": ".py",
      "mimetype": "text/x-python",
      "name": "python",
      "nbconvert_exporter": "python",
      "pygments_lexer": "ipython3",
      "version": "3.9.6"
    },
    "orig_nbformat": 4
  },
  "nbformat": 4,
  "nbformat_minor": 2
}
