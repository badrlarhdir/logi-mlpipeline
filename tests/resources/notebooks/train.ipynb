{
  "cells": [
    {
      "cell_type": "code",
      "execution_count": null,
      "id": "5667f5f2",
      "metadata": {
        "papermill": {
          "duration": 7.004198,
          "end_time": "2021-09-16T14:25:12.383704",
          "exception": false,
          "start_time": "2021-09-16T14:25:05.379506",
          "status": "completed"
        },
        "tags": []
      },
      "outputs": [],
      "source": [
        "import sys\n",
        "import pickle\n",
        "import numpy as np\n",
        "import matplotlib.pyplot as plt\n",
        "\n",
        "from sklearn.metrics import classification_report\n",
        "\n",
        "from tensorflow.keras.preprocessing.text import Tokenizer\n",
        "from tensorflow.keras.preprocessing.sequence import pad_sequences\n",
        "from tensorflow.keras.models import Sequential\n",
        "from tensorflow.keras.layers import Embedding, LSTM, Dense, Dropout\n",
        "from tensorflow.keras.callbacks import Callback, EarlyStopping"
      ]
    },
    {
      "cell_type": "code",
      "execution_count": null,
      "id": "62d47301-9190-44f7-bd83-67e90d3ddee7",
      "metadata": {},
      "outputs": [],
      "source": [
        "from dvclive.keras import DVCLiveCallback\n",
        "from dvclive import Live\n",
        "\n",
        "live = Live(save_dvc_exp=True)"
      ]
    },
    {
      "cell_type": "code",
      "execution_count": null,
      "id": "f3ed4760-8615-4fee-9c10-f0eb58388fa1",
      "metadata": {},
      "outputs": [],
      "source": [
        "import pathlib\n",
        " \n",
        "# current working directory\n",
        "print(pathlib.Path().absolute())"
      ]
    },
    {
      "cell_type": "code",
      "execution_count": null,
      "id": "eeb47dab-5cff-4f21-8c7f-a2854bd65ed1",
      "metadata": {},
      "outputs": [],
      "source": [
        "from sorcery import (assigned_names, unpack_keys, unpack_attrs,\n",
        "                     dict_of, print_args, call_with_name,\n",
        "                     delegate_to_attr, maybe, select_from)"
      ]
    },
    {
      "cell_type": "raw",
      "id": "86091a21-da46-47c2-bd7a-7182400bf868",
      "metadata": {},
      "source": [
        "# Added by DataScientists\n",
        "from mlpipeline import PipelineBuilder\n",
        "pipeline = PipelineBuilder()"
      ]
    },
    {
      "cell_type": "markdown",
      "id": "0c3603af-ac04-4c11-8ba1-45102da174cc",
      "metadata": {},
      "source": [
        "### PARAMS"
      ]
    },
    {
      "cell_type": "code",
      "execution_count": null,
      "id": "b7243afe-909e-4702-a593-a541b855fdb8",
      "metadata": {
        "tags": [
          "parameters"
        ]
      },
      "outputs": [],
      "source": [
        "UTILS_DIR = \"./\"\n",
        "DATA_DIR = '../data/'\n",
        "MAX_LEN = 20\n",
        "EPOCHS = 100\n",
        "EARLY_STOPPING_MONITOR = 'val_loss'\n",
        "EARLY_STOPPING_MIN_DELTA = 0\n",
        "EARLY_STOPPING_PATIENCE = 5\n",
        "EARLY_STOPPING_MODE = 'auto'\n",
        "\n",
        "# # UI friendly ??\n",
        "# training_params = dict_of(MAX_LEN, EPOCHS, EARLY_STOPPING_MONITOR, EARLY_STOPPING_MIN_DELTA, EARLY_STOPPING_PATIENCE, EARLY_STOPPING_MODE)"
      ]
    },
    {
      "cell_type": "markdown",
      "id": "82881baa-06f3-4e5a-920e-0c0bc3814afc",
      "metadata": {},
      "source": [
        "### Added by DataScientists"
      ]
    },
    {
      "cell_type": "raw",
      "id": "08b175cf-ab8b-4ac5-a1b0-7b22ce759014",
      "metadata": {},
      "source": [
        "pipeline.add_params_to_stage(\"train\", {\n",
        "    \"MAX_LEN\": 20,\n",
        "    \"EPOCHS\": 100,\n",
        "    \"EARLY_STOPPING_MONITOR\": \"val_loss\",\n",
        "    \"EARLY_STOPPING_MIN_DELTA\": 0,\n",
        "    \"EARLY_STOPPING_PATIENCE\": 5,\n",
        "    \"EARLY_STOPPING_MODE\": \"auto\"\n",
        "  })"
      ]
    },
    {
      "cell_type": "markdown",
      "id": "f8bca2a8-7e0b-4375-a576-1d725db1dfd2",
      "metadata": {},
      "source": [
        "### Added by DataScientists"
      ]
    },
    {
      "cell_type": "raw",
      "id": "9ba00a11-d642-4627-b861-9b0a47127030",
      "metadata": {},
      "source": [
        "pipeline.set_pipeline_stage(\"train\", \"train.ipynb\", \"train_out.ipynb\", {\"UTILS_DIR\": \"base.UTILS_DIR\", \n",
        "                                                                          \"DATA_DIR\": \"base.DATA_DIR\",\n",
        "                                                                          \"MAX_LEN\": \"train.MAX_LEN\", \n",
        "                                                                          \"EPOCHS\": \"train.EPOCHS\", \n",
        "                                                                          \"EARLY_STOPPING_MONITOR\": \"train.EARLY_STOPPING_MONITOR\", \n",
        "                                                                          \"EARLY_STOPPING_MIN_DELTA\": \"train.EARLY_STOPPING_MIN_DELTA\",\n",
        "                                                                          \"EARLY_STOPPING_PATIENCE\": \"train.EARLY_STOPPING_PATIENCE\", \n",
        "                                                                          \"EARLY_STOPPING_MODE\": \"train.EARLY_STOPPING_MODE\" })"
      ]
    },
    {
      "cell_type": "code",
      "execution_count": null,
      "id": "ca438ba7-e038-4c74-b5ab-75c28f3630b5",
      "metadata": {},
      "outputs": [],
      "source": [
        "sys.path.append(UTILS_DIR)\n",
        "\n",
        "from utils.plot_target import plot_target"
      ]
    },
    {
      "cell_type": "markdown",
      "id": "db4ec3d4-f93b-4d88-af30-a957ab8049f7",
      "metadata": {},
      "source": [
        "### Added by DataScientists"
      ]
    },
    {
      "cell_type": "raw",
      "id": "0fbba174-56a7-45c3-a2fc-1b12da83f1e6",
      "metadata": {},
      "source": [
        "pipeline.add_deps_to_stage(\"train\", \"utils/plot_target.py\", \"../data/X.pckl\", \"../data/X_train.pckl\", \"../data/X_test.pckl\", \"../data/y.pckl\", \"../data/y_train.pckl\", \"../data/y_test.pckl\", \"../data/counter.pckl\")\n",
        "pipeline.link_params_to_stage(\"train\", \"base\", \"train\")"
      ]
    },
    {
      "cell_type": "markdown",
      "id": "24c2f344-f128-4e3d-bf32-9bf665e7a874",
      "metadata": {},
      "source": [
        "## TRAINING"
      ]
    },
    {
      "cell_type": "code",
      "execution_count": null,
      "id": "3cb7f522-c4df-4a8c-8c4a-8a1d10148712",
      "metadata": {},
      "outputs": [],
      "source": [
        "X = pickle.load(open(DATA_DIR + 'X.pckl', 'rb'))\n",
        "X_train = pickle.load(open(DATA_DIR + 'X_train.pckl', 'rb'))\n",
        "X_test = pickle.load(open(DATA_DIR + 'X_test.pckl', 'rb'))\n",
        "\n",
        "y = pickle.load(open(DATA_DIR + 'y.pckl', 'rb'))\n",
        "y_train = pickle.load(open(DATA_DIR + 'y_train.pckl', 'rb'))\n",
        "y_test = pickle.load(open(DATA_DIR + 'y_test.pckl', 'rb'))"
      ]
    },
    {
      "cell_type": "code",
      "execution_count": null,
      "id": "57014cef-8f94-4b28-8676-376f6dd4c671",
      "metadata": {},
      "outputs": [],
      "source": [
        "X_train"
      ]
    },
    {
      "cell_type": "code",
      "execution_count": null,
      "id": "10f3bdf6-326e-4342-b9f4-d2ebbd5208ee",
      "metadata": {},
      "outputs": [],
      "source": [
        "counter = pickle.load(open(DATA_DIR + 'counter.pckl', 'rb'))"
      ]
    },
    {
      "cell_type": "code",
      "execution_count": null,
      "id": "59815350",
      "metadata": {
        "papermill": {
          "duration": 0.059042,
          "end_time": "2021-09-16T14:25:23.129086",
          "exception": false,
          "start_time": "2021-09-16T14:25:23.070044",
          "status": "completed"
        },
        "tags": []
      },
      "outputs": [],
      "source": [
        "num_words = len(counter)"
      ]
    },
    {
      "cell_type": "code",
      "execution_count": null,
      "id": "d0a7cfd7",
      "metadata": {
        "papermill": {
          "duration": 0.175628,
          "end_time": "2021-09-16T14:25:23.356401",
          "exception": false,
          "start_time": "2021-09-16T14:25:23.180773",
          "status": "completed"
        },
        "tags": []
      },
      "outputs": [],
      "source": [
        "tokenizer = Tokenizer(num_words=num_words)\n",
        "tokenizer.fit_on_texts(X_train)"
      ]
    },
    {
      "cell_type": "code",
      "execution_count": null,
      "id": "0bc54433",
      "metadata": {
        "papermill": {
          "duration": 0.190383,
          "end_time": "2021-09-16T14:25:23.598841",
          "exception": false,
          "start_time": "2021-09-16T14:25:23.408458",
          "status": "completed"
        },
        "tags": []
      },
      "outputs": [],
      "source": [
        "X_train = tokenizer.texts_to_sequences(X_train)\n",
        "train_padded = pad_sequences(X_train, maxlen = MAX_LEN, truncating=\"post\")"
      ]
    },
    {
      "cell_type": "code",
      "execution_count": null,
      "id": "d1675e2b",
      "metadata": {
        "papermill": {
          "duration": 0.094096,
          "end_time": "2021-09-16T14:25:23.745114",
          "exception": false,
          "start_time": "2021-09-16T14:25:23.651018",
          "status": "completed"
        },
        "tags": []
      },
      "outputs": [],
      "source": [
        "X_test = tokenizer.texts_to_sequences(X_test)\n",
        "test_padded = pad_sequences(X_test,maxlen=MAX_LEN, truncating=\"post\")"
      ]
    },
    {
      "cell_type": "code",
      "execution_count": null,
      "id": "fe214ca3",
      "metadata": {
        "papermill": {
          "duration": 0.059674,
          "end_time": "2021-09-16T14:25:23.856726",
          "exception": false,
          "start_time": "2021-09-16T14:25:23.797052",
          "status": "completed"
        },
        "tags": []
      },
      "outputs": [],
      "source": [
        "my_callbacks  = [EarlyStopping(monitor = EARLY_STOPPING_MONITOR,\n",
        "                              min_delta = EARLY_STOPPING_MIN_DELTA,\n",
        "                              patience =  EARLY_STOPPING_PATIENCE,\n",
        "                              mode = EARLY_STOPPING_MODE),\n",
        "                DVCLiveCallback(save_dvc_exp=True)] #adding DVCLive callback"
      ]
    },
    {
      "cell_type": "code",
      "execution_count": null,
      "id": "5d09618a",
      "metadata": {
        "papermill": {
          "duration": 0.451876,
          "end_time": "2021-09-16T14:25:24.360753",
          "exception": false,
          "start_time": "2021-09-16T14:25:23.908877",
          "status": "completed"
        },
        "tags": []
      },
      "outputs": [],
      "source": [
        "model = Sequential()\n",
        "model.add(Embedding(num_words, 32,input_length=MAX_LEN))\n",
        "model.add(LSTM(64, dropout=0.2))\n",
        "model.add(Dense(1, activation='sigmoid'))"
      ]
    },
    {
      "cell_type": "code",
      "execution_count": null,
      "id": "b6f32f4a",
      "metadata": {
        "papermill": {
          "duration": 0.073243,
          "end_time": "2021-09-16T14:25:24.486626",
          "exception": false,
          "start_time": "2021-09-16T14:25:24.413383",
          "status": "completed"
        },
        "tags": []
      },
      "outputs": [],
      "source": [
        "model.compile(optimizer=\"Adam\", loss=\"binary_crossentropy\", metrics=[\"accuracy\"])"
      ]
    },
    {
      "cell_type": "code",
      "execution_count": null,
      "id": "34bed0da",
      "metadata": {
        "papermill": {
          "duration": 22.476488,
          "end_time": "2021-09-16T14:25:47.015599",
          "exception": false,
          "start_time": "2021-09-16T14:25:24.539111",
          "status": "completed"
        },
        "tags": []
      },
      "outputs": [],
      "source": [
        "history = model.fit(train_padded, y_train, epochs=EPOCHS, validation_data=(test_padded, y_test), callbacks=my_callbacks)"
      ]
    },
    {
      "cell_type": "code",
      "execution_count": null,
      "id": "b587b389",
      "metadata": {
        "papermill": {
          "duration": 0.349507,
          "end_time": "2021-09-16T14:25:47.508670",
          "exception": false,
          "start_time": "2021-09-16T14:25:47.159163",
          "status": "completed"
        },
        "tags": []
      },
      "outputs": [],
      "source": [
        "results = model.evaluate(test_padded, y_test, verbose=0)\n",
        "print(\"Test Loss: {:.5f}\".format(results[0]))\n",
        "print(\"Test Accuracy: {:.2f}%\".format(results[1] * 100))"
      ]
    },
    {
      "cell_type": "code",
      "execution_count": null,
      "id": "3e385d4e-d995-42d8-b066-6bbe906b32b7",
      "metadata": {},
      "outputs": [],
      "source": [
        "live.log_metric(\"test_loss\", results[0])\n",
        "live.log_metric(\"test_accuracy\", results[1])"
      ]
    },
    {
      "cell_type": "code",
      "execution_count": null,
      "id": "8c128ce3",
      "metadata": {
        "papermill": {
          "duration": 0.719179,
          "end_time": "2021-09-16T14:25:48.371204",
          "exception": false,
          "start_time": "2021-09-16T14:25:47.652025",
          "status": "completed"
        },
        "tags": []
      },
      "outputs": [],
      "source": [
        "# y_pred = model.predict_classes(test_padded)\n",
        "predict_y =model.predict(test_padded) \n",
        "y_pred=np.argmax(predict_y,axis=1)"
      ]
    },
    {
      "cell_type": "code",
      "execution_count": null,
      "id": "cda17cbb",
      "metadata": {
        "papermill": {
          "duration": 0.189907,
          "end_time": "2021-09-16T14:25:48.705255",
          "exception": false,
          "start_time": "2021-09-16T14:25:48.515348",
          "status": "completed"
        },
        "tags": []
      },
      "outputs": [],
      "source": [
        "print(classification_report(y_test, y_pred))"
      ]
    },
    {
      "cell_type": "code",
      "execution_count": null,
      "id": "1a6f058a",
      "metadata": {
        "papermill": {
          "duration": 0.573281,
          "end_time": "2021-09-16T14:25:49.441171",
          "exception": false,
          "start_time": "2021-09-16T14:25:48.867890",
          "status": "completed"
        },
        "tags": []
      },
      "outputs": [],
      "source": [
        "fig, ax = plt.subplots(1, 2, figsize=(10, 3))\n",
        "ax = ax.ravel()\n",
        "\n",
        "for i, met in enumerate(['accuracy', 'loss']):\n",
        "    ax[i].plot(history.history[met])\n",
        "    ax[i].plot(history.history['val_' + met])\n",
        "    ax[i].set_title('Model {}'.format(met))\n",
        "    ax[i].set_xlabel('epochs')\n",
        "    ax[i].set_ylabel(met)\n",
        "    ax[i].legend(['train', 'val'])\n",
        "    plt.savefig(DATA_DIR + \"model_metrics.png\")"
      ]
    },
    {
      "cell_type": "raw",
      "id": "a730bfed-aac3-4106-bc41-5caa1d1acafd",
      "metadata": {},
      "source": [
        "report.add_text_to_report(\"# Model metrics:\")\n",
        "report.add_text_to_report(\"Plots:\")\n",
        "report.add_img_to_report(\"./data/model_metrics.png\", \"model metrics\")"
      ]
    },
    {
      "cell_type": "code",
      "execution_count": null,
      "id": "bc8064db-a20c-4882-9b7c-9c50fcebdc6b",
      "metadata": {},
      "outputs": [],
      "source": [
        "live.end()"
      ]
    }
  ],
  "metadata": {
    "kernelspec": {
      "display_name": "venv",
      "language": "python",
      "name": "venv"
    },
    "language_info": {
      "codemirror_mode": {
        "name": "ipython",
        "version": 3
      },
      "file_extension": ".py",
      "mimetype": "text/x-python",
      "name": "python",
      "nbconvert_exporter": "python",
      "pygments_lexer": "ipython3",
      "version": "3.9.6"
    },
    "papermill": {
      "default_parameters": {},
      "duration": 54.751933,
      "end_time": "2021-09-16T14:25:52.337962",
      "environment_variables": {},
      "exception": null,
      "input_path": "__notebook__.ipynb",
      "output_path": "__notebook__.ipynb",
      "parameters": {},
      "start_time": "2021-09-16T14:24:57.586029",
      "version": "2.3.3"
    }
  },
  "nbformat": 4,
  "nbformat_minor": 5
}
