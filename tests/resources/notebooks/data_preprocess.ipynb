{
  "cells": [
    {
      "cell_type": "code",
      "execution_count": null,
      "id": "5667f5f2",
      "metadata": {
        "papermill": {
          "duration": 7.004198,
          "end_time": "2021-09-16T14:25:12.383704",
          "exception": false,
          "start_time": "2021-09-16T14:25:05.379506",
          "status": "completed"
        },
        "tags": []
      },
      "outputs": [],
      "source": [
        "import sys\n",
        "import pickle\n",
        "import string\n",
        "import numpy as np\n",
        "import pandas as pd\n",
        "import seaborn as sns\n",
        "import matplotlib.pyplot as plt\n",
        "\n",
        "from sklearn.model_selection import train_test_split\n",
        "from sklearn.feature_extraction.text import CountVectorizer"
      ]
    },
    {
      "cell_type": "code",
      "execution_count": null,
      "id": "55747b9d-c4e4-4cee-a952-783edfb547b6",
      "metadata": {},
      "outputs": [],
      "source": [
        "from dvclive import Live\n",
        "\n",
        "live = Live(save_dvc_exp=True)"
      ]
    },
    {
      "cell_type": "code",
      "execution_count": null,
      "id": "10b331e7-97c7-4aab-acb9-3ad44ee11a8a",
      "metadata": {},
      "outputs": [],
      "source": [
        "import pathlib\n",
        " \n",
        "# current working directory\n",
        "print(pathlib.Path().absolute())"
      ]
    },
    {
      "cell_type": "raw",
      "id": "845de265-731d-45f0-90e0-54fab9de519a",
      "metadata": {},
      "source": [
        "# Added by DataScientists\n",
        "from mlpipeline import PipelineBuilder\n",
        "pipeline = PipelineBuilder()"
      ]
    },
    {
      "cell_type": "markdown",
      "id": "652b2c2c-6e86-4195-b932-f5c216972e1a",
      "metadata": {},
      "source": [
        "### PARAMS"
      ]
    },
    {
      "cell_type": "code",
      "execution_count": null,
      "id": "23492dab-2346-4ffc-b229-8d5d19cd0d73",
      "metadata": {
        "tags": [
          "parameters"
        ]
      },
      "outputs": [],
      "source": [
        "UTILS_DIR = \"./\"\n",
        "DATA_DIR = '../data/'\n",
        "DATA_NAME =  'train_data_cleaning.csv'"
      ]
    },
    {
      "cell_type": "markdown",
      "id": "85da6383-53b4-45f8-9915-112175e17f90",
      "metadata": {},
      "source": [
        "### Added by DataScientists"
      ]
    },
    {
      "cell_type": "raw",
      "id": "6e8ec2ad-9708-4683-8eb3-648a1f4e670d",
      "metadata": {},
      "source": [
        "pipeline.add_params_to_stage(\"base\", {\n",
        "    \"UTILS_DIR\": \"./\",\n",
        "    \"DATA_DIR\": '../data/',\n",
        "    \"KERNEL_NAME\": \"venv\"\n",
        "  })"
      ]
    },
    {
      "cell_type": "markdown",
      "id": "85ff1e07-7f99-4c2e-85ed-10078af8b386",
      "metadata": {},
      "source": [
        "### Added by DataScientists"
      ]
    },
    {
      "cell_type": "raw",
      "id": "0f70f0a0-7f68-488c-b49d-e161420f9eb3",
      "metadata": {},
      "source": [
        "pipeline.add_params_to_stage(\"data_preprocess\", {\n",
        "    \"DATA_NAME\": \"train_data_cleaning.csv\"\n",
        "  })"
      ]
    },
    {
      "cell_type": "markdown",
      "id": "3ca9ed9b-0163-42b8-b883-2576a61bb91c",
      "metadata": {},
      "source": [
        "### Added by DataScientists"
      ]
    },
    {
      "cell_type": "raw",
      "id": "cacc5299-a401-46b5-9b15-3a3c4e55945d",
      "metadata": {},
      "source": [
        "pipeline.set_pipeline_stage(\"data_preprocess\", \"data_preprocess.ipynb\", \"data_preprocess_out.ipynb\", {\"UTILS_DIR\": \"base.UTILS_DIR\", \n",
        "                                                                                                     \"DATA_DIR\": \"base.DATA_DIR\", \n",
        "                                                                                                     \"DATA_NAME\": \"data_preprocess.DATA_NAME\"})"
      ]
    },
    {
      "cell_type": "code",
      "execution_count": null,
      "id": "bfb72ef9-49d2-4ef9-91b3-ca400138cafd",
      "metadata": {},
      "outputs": [],
      "source": [
        "sys.path.append(UTILS_DIR)\n",
        "\n",
        "from utils.clean_text import clean_text\n",
        "from utils.counter_word import counter_word\n",
        "from utils.plot_target import plot_target"
      ]
    },
    {
      "cell_type": "markdown",
      "id": "b2e635d2-d910-4b31-9e93-95e18dd94c10",
      "metadata": {},
      "source": [
        "### Added by DataScientists"
      ]
    },
    {
      "cell_type": "raw",
      "id": "63f91dfd-371e-4ea7-92b2-5ae59fc87c2f",
      "metadata": {},
      "source": [
        "pipeline.add_deps_to_stage(\"data_preprocess\", \"utils/clean_text.py\", \"utils/counter_word.py\", \n",
        "                                              \"utils/plot_target.py\", \"../data/train_data_cleaning.csv\")"
      ]
    },
    {
      "cell_type": "markdown",
      "id": "58d851db-7935-4a00-9713-9415d627bb2a",
      "metadata": {},
      "source": [
        "## DATA PREPROCESSING"
      ]
    },
    {
      "cell_type": "code",
      "execution_count": null,
      "id": "8f56b8c1",
      "metadata": {
        "papermill": {
          "duration": 0.092066,
          "end_time": "2021-09-16T14:25:12.514154",
          "exception": false,
          "start_time": "2021-09-16T14:25:12.422088",
          "status": "completed"
        },
        "tags": []
      },
      "outputs": [],
      "source": [
        "train_df = pd.read_csv(DATA_DIR + DATA_NAME)"
      ]
    },
    {
      "cell_type": "code",
      "execution_count": null,
      "id": "2ff80a80",
      "metadata": {
        "papermill": {
          "duration": 0.066242,
          "end_time": "2021-09-16T14:25:12.616334",
          "exception": false,
          "start_time": "2021-09-16T14:25:12.550092",
          "status": "completed"
        },
        "tags": []
      },
      "outputs": [],
      "source": [
        "train_df.info()"
      ]
    },
    {
      "cell_type": "code",
      "execution_count": null,
      "id": "bfe3ab23",
      "metadata": {
        "papermill": {
          "duration": 0.052178,
          "end_time": "2021-09-16T14:25:12.704785",
          "exception": false,
          "start_time": "2021-09-16T14:25:12.652607",
          "status": "completed"
        },
        "tags": []
      },
      "outputs": [],
      "source": [
        "train_df.isnull().sum()"
      ]
    },
    {
      "cell_type": "code",
      "execution_count": null,
      "id": "8e87ea04",
      "metadata": {
        "papermill": {
          "duration": 0.053718,
          "end_time": "2021-09-16T14:25:12.795085",
          "exception": false,
          "start_time": "2021-09-16T14:25:12.741367",
          "status": "completed"
        },
        "tags": []
      },
      "outputs": [],
      "source": [
        "train_df.head()"
      ]
    },
    {
      "cell_type": "code",
      "execution_count": null,
      "id": "e343ab4d",
      "metadata": {
        "papermill": {
          "duration": 0.058993,
          "end_time": "2021-09-16T14:25:12.891435",
          "exception": false,
          "start_time": "2021-09-16T14:25:12.832442",
          "status": "completed"
        },
        "tags": []
      },
      "outputs": [],
      "source": [
        "train_df.describe()"
      ]
    },
    {
      "cell_type": "code",
      "execution_count": null,
      "id": "f7761258",
      "metadata": {
        "papermill": {
          "duration": 0.052072,
          "end_time": "2021-09-16T14:25:12.981065",
          "exception": false,
          "start_time": "2021-09-16T14:25:12.928993",
          "status": "completed"
        },
        "tags": []
      },
      "outputs": [],
      "source": [
        "train_df.location.value_counts()[:10]"
      ]
    },
    {
      "cell_type": "code",
      "execution_count": null,
      "id": "d515490b",
      "metadata": {
        "papermill": {
          "duration": 0.198058,
          "end_time": "2021-09-16T14:25:13.218050",
          "exception": false,
          "start_time": "2021-09-16T14:25:13.019992",
          "status": "completed"
        },
        "tags": []
      },
      "outputs": [],
      "source": [
        "counts =train_df['target'].value_counts()\n",
        "sns.barplot(x=counts.index, y=counts)\n",
        "plt.xlabel('Target')\n",
        "plt.ylabel('Count')"
      ]
    },
    {
      "cell_type": "code",
      "execution_count": null,
      "id": "532bb747",
      "metadata": {
        "papermill": {
          "duration": 0.051648,
          "end_time": "2021-09-16T14:25:13.309214",
          "exception": false,
          "start_time": "2021-09-16T14:25:13.257566",
          "status": "completed"
        },
        "tags": []
      },
      "outputs": [],
      "source": [
        "train_df['Text_length'] = train_df['text'].apply(len)"
      ]
    },
    {
      "cell_type": "code",
      "execution_count": null,
      "id": "cd173207",
      "metadata": {
        "papermill": {
          "duration": 0.479058,
          "end_time": "2021-09-16T14:25:13.826936",
          "exception": false,
          "start_time": "2021-09-16T14:25:13.347878",
          "status": "completed"
        },
        "tags": []
      },
      "outputs": [],
      "source": [
        "length_text = sns.FacetGrid(data=train_df, col='target')\n",
        "length_text.map(plt.hist, 'Text_length', bins=20, color='r')"
      ]
    },
    {
      "cell_type": "code",
      "execution_count": null,
      "id": "f0b20065",
      "metadata": {
        "papermill": {
          "duration": 0.048676,
          "end_time": "2021-09-16T14:25:13.915098",
          "exception": false,
          "start_time": "2021-09-16T14:25:13.866422",
          "status": "completed"
        },
        "tags": []
      },
      "outputs": [],
      "source": [
        "train_df.drop(['id','location','keyword'], axis=1, inplace=True)"
      ]
    },
    {
      "cell_type": "code",
      "execution_count": null,
      "id": "e548a564",
      "metadata": {
        "papermill": {
          "duration": 0.052734,
          "end_time": "2021-09-16T14:25:14.007231",
          "exception": false,
          "start_time": "2021-09-16T14:25:13.954497",
          "status": "completed"
        },
        "tags": []
      },
      "outputs": [],
      "source": [
        "train_df.isnull().sum()"
      ]
    },
    {
      "cell_type": "code",
      "execution_count": null,
      "id": "7f4aab60",
      "metadata": {
        "papermill": {
          "duration": 0.412057,
          "end_time": "2021-09-16T14:25:14.547947",
          "exception": false,
          "start_time": "2021-09-16T14:25:14.135890",
          "status": "completed"
        },
        "tags": []
      },
      "outputs": [],
      "source": [
        "plot_target(train_df, \"Text_length\")"
      ]
    },
    {
      "cell_type": "code",
      "execution_count": null,
      "id": "8ce15925",
      "metadata": {
        "papermill": {
          "duration": 0.079914,
          "end_time": "2021-09-16T14:25:14.668599",
          "exception": false,
          "start_time": "2021-09-16T14:25:14.588685",
          "status": "completed"
        },
        "tags": []
      },
      "outputs": [],
      "source": [
        "train_df['words_counts'] = train_df.text.str.split().map(lambda x: len(x))"
      ]
    },
    {
      "cell_type": "code",
      "execution_count": null,
      "id": "8bbecde6",
      "metadata": {
        "papermill": {
          "duration": 0.052954,
          "end_time": "2021-09-16T14:25:14.761998",
          "exception": false,
          "start_time": "2021-09-16T14:25:14.709044",
          "status": "completed"
        },
        "tags": []
      },
      "outputs": [],
      "source": [
        "train_df.head()"
      ]
    },
    {
      "cell_type": "code",
      "execution_count": null,
      "id": "5ba0efa1",
      "metadata": {
        "papermill": {
          "duration": 0.443351,
          "end_time": "2021-09-16T14:25:15.246474",
          "exception": false,
          "start_time": "2021-09-16T14:25:14.803123",
          "status": "completed"
        },
        "tags": []
      },
      "outputs": [],
      "source": [
        "plot_target(train_df, \"words_counts\")"
      ]
    },
    {
      "cell_type": "code",
      "execution_count": null,
      "id": "c5c920a3",
      "metadata": {
        "papermill": {
          "duration": 0.084142,
          "end_time": "2021-09-16T14:25:15.372375",
          "exception": false,
          "start_time": "2021-09-16T14:25:15.288233",
          "status": "completed"
        },
        "tags": []
      },
      "outputs": [],
      "source": [
        "train_df['unique_word_count'] = train_df.text.map(lambda x: len(set(str(x).split())))"
      ]
    },
    {
      "cell_type": "code",
      "execution_count": null,
      "id": "4bc81b77",
      "metadata": {
        "papermill": {
          "duration": 0.056433,
          "end_time": "2021-09-16T14:25:15.471257",
          "exception": false,
          "start_time": "2021-09-16T14:25:15.414824",
          "status": "completed"
        },
        "tags": []
      },
      "outputs": [],
      "source": [
        "train_df.head()"
      ]
    },
    {
      "cell_type": "code",
      "execution_count": null,
      "id": "596a12ec",
      "metadata": {
        "papermill": {
          "duration": 0.459376,
          "end_time": "2021-09-16T14:25:15.972902",
          "exception": false,
          "start_time": "2021-09-16T14:25:15.513526",
          "status": "completed"
        },
        "tags": []
      },
      "outputs": [],
      "source": [
        "plot_target(train_df, 'unique_word_count')"
      ]
    },
    {
      "cell_type": "code",
      "execution_count": null,
      "id": "e958ed62",
      "metadata": {
        "papermill": {
          "duration": 0.120215,
          "end_time": "2021-09-16T14:25:16.136293",
          "exception": false,
          "start_time": "2021-09-16T14:25:16.016078",
          "status": "completed"
        },
        "tags": []
      },
      "outputs": [],
      "source": [
        "train_df['punctuation_count'] = train_df['text'].map(lambda x: len([c for c in str(x) if c in string.punctuation]))"
      ]
    },
    {
      "cell_type": "code",
      "execution_count": null,
      "id": "7617bffa",
      "metadata": {
        "papermill": {
          "duration": 0.057128,
          "end_time": "2021-09-16T14:25:16.236714",
          "exception": false,
          "start_time": "2021-09-16T14:25:16.179586",
          "status": "completed"
        },
        "tags": []
      },
      "outputs": [],
      "source": [
        "train_df.head()"
      ]
    },
    {
      "cell_type": "code",
      "execution_count": null,
      "id": "4c325140",
      "metadata": {
        "papermill": {
          "duration": 0.465083,
          "end_time": "2021-09-16T14:25:16.745030",
          "exception": false,
          "start_time": "2021-09-16T14:25:16.279947",
          "status": "completed"
        },
        "tags": []
      },
      "outputs": [],
      "source": [
        "plot_target(train_df, 'punctuation_count')"
      ]
    },
    {
      "cell_type": "code",
      "execution_count": null,
      "id": "8c3d9bda",
      "metadata": {
        "papermill": {
          "duration": 3.560879,
          "end_time": "2021-09-16T14:25:20.460955",
          "exception": false,
          "start_time": "2021-09-16T14:25:16.900076",
          "status": "completed"
        },
        "tags": []
      },
      "outputs": [],
      "source": [
        "train_df['Text_cleaning'] = train_df.text.apply(clean_text)"
      ]
    },
    {
      "cell_type": "code",
      "execution_count": null,
      "id": "0a6efb6d",
      "metadata": {
        "papermill": {
          "duration": 0.054274,
          "end_time": "2021-09-16T14:25:20.559232",
          "exception": false,
          "start_time": "2021-09-16T14:25:20.504958",
          "status": "completed"
        },
        "tags": []
      },
      "outputs": [],
      "source": [
        "x_1 = train_df[train_df.target == 1][\"Text_cleaning\"]\n",
        "x_0 = train_df[train_df.target == 0][\"Text_cleaning\"]"
      ]
    },
    {
      "cell_type": "code",
      "execution_count": null,
      "id": "fa5212bb",
      "metadata": {
        "papermill": {
          "duration": 0.05815,
          "end_time": "2021-09-16T14:25:22.278531",
          "exception": false,
          "start_time": "2021-09-16T14:25:22.220381",
          "status": "completed"
        },
        "tags": []
      },
      "outputs": [],
      "source": [
        "X = train_df['Text_cleaning']\n",
        "y = train_df['target']"
      ]
    },
    {
      "cell_type": "code",
      "execution_count": null,
      "id": "e3f402ae",
      "metadata": {
        "papermill": {
          "duration": 0.062106,
          "end_time": "2021-09-16T14:25:22.392633",
          "exception": false,
          "start_time": "2021-09-16T14:25:22.330527",
          "status": "completed"
        },
        "tags": []
      },
      "outputs": [],
      "source": [
        "X_train, X_test, y_train, y_test = train_test_split(X, y, test_size=0.2)"
      ]
    },
    {
      "cell_type": "code",
      "execution_count": null,
      "id": "5523cce6",
      "metadata": {
        "papermill": {
          "duration": 0.209187,
          "end_time": "2021-09-16T14:25:22.653315",
          "exception": false,
          "start_time": "2021-09-16T14:25:22.444128",
          "status": "completed"
        },
        "tags": []
      },
      "outputs": [],
      "source": [
        "count_vectorizer = CountVectorizer()\n",
        "train_counts = count_vectorizer.fit_transform(train_df['Text_cleaning'])"
      ]
    },
    {
      "cell_type": "code",
      "execution_count": null,
      "id": "0d8484ed",
      "metadata": {
        "papermill": {
          "duration": 0.088793,
          "end_time": "2021-09-16T14:25:22.905461",
          "exception": false,
          "start_time": "2021-09-16T14:25:22.816668",
          "status": "completed"
        },
        "tags": []
      },
      "outputs": [],
      "source": [
        "text = train_df['Text_cleaning']\n",
        "counter = counter_word(text)"
      ]
    },
    {
      "cell_type": "code",
      "execution_count": null,
      "id": "8daa9e34",
      "metadata": {
        "papermill": {
          "duration": 0.06029,
          "end_time": "2021-09-16T14:25:23.017776",
          "exception": false,
          "start_time": "2021-09-16T14:25:22.957486",
          "status": "completed"
        },
        "tags": []
      },
      "outputs": [],
      "source": [
        "len(counter)"
      ]
    },
    {
      "cell_type": "code",
      "execution_count": null,
      "id": "82e07e51-5b66-4d5b-a470-b630f1568205",
      "metadata": {},
      "outputs": [],
      "source": [
        "live.log_metric(\"len_counter\", len(counter))"
      ]
    },
    {
      "cell_type": "markdown",
      "id": "3500d4aa-caa0-4487-88fd-e2fe92027dc1",
      "metadata": {},
      "source": [
        "### OUTPUTS"
      ]
    },
    {
      "cell_type": "code",
      "execution_count": null,
      "id": "3076863a-d3ab-4753-88a8-8ac16e37708a",
      "metadata": {},
      "outputs": [],
      "source": [
        "pickle.dump(X, open(DATA_DIR + \"X.pckl\", \"wb\"))\n",
        "pickle.dump(X_train, open(DATA_DIR + \"X_train.pckl\", \"wb\"))\n",
        "pickle.dump(X_test, open(DATA_DIR +\"X_test.pckl\", \"wb\"))\n",
        "\n",
        "pickle.dump(y, open(DATA_DIR + \"y.pckl\", \"wb\"))\n",
        "pickle.dump(y_train, open(DATA_DIR + \"y_train.pckl\", \"wb\"))\n",
        "pickle.dump(y_test, open(DATA_DIR + \"y_test.pckl\", \"wb\"))"
      ]
    },
    {
      "cell_type": "code",
      "execution_count": null,
      "id": "8b6173a8-d111-4bf8-bc94-566b6503d89e",
      "metadata": {},
      "outputs": [],
      "source": [
        "pickle.dump(counter, open(DATA_DIR + \"counter.pckl\", \"wb\"))"
      ]
    },
    {
      "cell_type": "markdown",
      "id": "8d59d147-9232-483b-960a-c598b06b2d9e",
      "metadata": {},
      "source": [
        "### Added by DataScientists"
      ]
    },
    {
      "cell_type": "raw",
      "id": "c32755c9-f64a-4bd9-91e1-0320817c9277",
      "metadata": {},
      "source": [
        "pipeline.add_outs_to_stage('data_preprocess', '../data/X.pckl', '../data/X_train.pckl', '../data/X_test.pckl',\n",
        "                                              '../data/y.pckl', '../data/y_train.pckl', '../data/y_test.pckl',\n",
        "                                              '../data/counter.pckl')"
      ]
    },
    {
      "cell_type": "markdown",
      "id": "bf8c92b7-07dc-436d-85c7-a7b567bfa3dc",
      "metadata": {},
      "source": [
        "### Added by DataScientists"
      ]
    },
    {
      "cell_type": "raw",
      "id": "fba9c108-a639-4f35-89e5-c941f6b83da2",
      "metadata": {},
      "source": [
        "pipeline.link_params_to_stage('data_preprocess', 'base', 'data_preprocess')"
      ]
    }
  ],
  "metadata": {
    "kernelspec": {
      "display_name": "venv",
      "language": "python",
      "name": "venv"
    },
    "language_info": {
      "codemirror_mode": {
        "name": "ipython",
        "version": 3
      },
      "file_extension": ".py",
      "mimetype": "text/x-python",
      "name": "python",
      "nbconvert_exporter": "python",
      "pygments_lexer": "ipython3",
      "version": "3.9.6"
    },
    "papermill": {
      "default_parameters": {},
      "duration": 54.751933,
      "end_time": "2021-09-16T14:25:52.337962",
      "environment_variables": {},
      "exception": null,
      "input_path": "__notebook__.ipynb",
      "output_path": "__notebook__.ipynb",
      "parameters": {},
      "start_time": "2021-09-16T14:24:57.586029",
      "version": "2.3.3"
    }
  },
  "nbformat": 4,
  "nbformat_minor": 5
}
